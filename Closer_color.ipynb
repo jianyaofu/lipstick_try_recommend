{
 "cells": [
  {
   "cell_type": "code",
   "execution_count": 1,
   "metadata": {},
   "outputs": [],
   "source": [
    "from colorsys import rgb_to_hsv\n",
    "import pandas as pd"
   ]
  },
  {
   "cell_type": "code",
   "execution_count": 2,
   "metadata": {},
   "outputs": [],
   "source": [
    "#clean data\n",
    "color_df = pd.read_csv('lipstick_colors.csv')\n",
    "# color_df.drop(color_df['Unnamed: 0'])\n",
    "color_df = color_df.drop(['Unnamed: 0'],axis = 1)\n",
    "color_df = color_df.fillna(value=str(0))"
   ]
  },
  {
   "cell_type": "code",
   "execution_count": 34,
   "metadata": {},
   "outputs": [],
   "source": [
    "# from colorsys import rgb_to_hsv\n",
    "# import pandas as pd\n",
    "\n",
    "# import re \n",
    "\n",
    "# #Clean Dataset\n",
    "# pattern = r'(\\d+)'\n",
    "# def get_tuple(row):\n",
    "#     match = re.findall(pattern, row)\n",
    "#     tuple_=(float(match[0]), float(match[1]), float(match[2]))\n",
    "#     return tuple_\n",
    "# color_df['(r, g, b)'] = color_df['(r, g, b)'].apply(get_tuple)\n",
    "\n",
    "# pattern_ = r'^\\w{3} \\w{2} \\w{5}: '\n",
    "# def remove_nostock(row):\n",
    "# #     pattern = r'^\\w{3} \\w{2} \\w{5}: '\n",
    "#     match = re.search(pattern_, row)\n",
    "#     if match:\n",
    "#         row = row[14:]\n",
    "# #     row=row\n",
    "#     return row\n",
    "# color_df['color'] = color_df['color'].apply(remove_nostock)\n",
    "\n",
    "# add a column to convert rgb to hsv\n",
    "# def to_hsv( color ): \n",
    "#     \"\"\" converts color tuples to floats and then to hsv \"\"\"\n",
    "#     return rgb_to_hsv(*[x/255.0 for x in color]) #rgb_to_hsv wants floats!\n",
    "# color_df['hsv'] = color_df['(r, g, b)'].apply(to_hsv)\n",
    "\n",
    "close_color ={}\n",
    "l=[]\n",
    "def min_color_diff( color_to_match):\n",
    "    \"\"\" returns the `(distance, color_name)` with the minimal distance to `colors` choose 5 closest color\"\"\"\n",
    "    from colorsys import rgb_to_hsv\n",
    "    import pandas as pd\n",
    "\n",
    "    import re \n",
    "    \n",
    "    #clean data\n",
    "    color_df = pd.read_csv('lipstick_colors.csv')\n",
    "    # color_df.drop(color_df['Unnamed: 0'])\n",
    "    color_df = color_df.drop(['Unnamed: 0'],axis = 1)\n",
    "    color_df = color_df.fillna(value=str(0))\n",
    "    \n",
    "    pattern = r'(\\d+)'\n",
    "    def get_tuple(row):\n",
    "        match = re.findall(pattern, row)\n",
    "        tuple_=(float(match[0]), float(match[1]), float(match[2]))\n",
    "        return tuple_\n",
    "    color_df['(r, g, b)'] = color_df['(r, g, b)'].apply(get_tuple)\n",
    "\n",
    "    pattern_ = r'^\\w{3} \\w{2} \\w{5}: '\n",
    "    def remove_nostock(row):\n",
    "#     pattern = r'^\\w{3} \\w{2} \\w{5}: '\n",
    "        match = re.search(pattern_, row)\n",
    "        if match:\n",
    "            row = row[14:]\n",
    "#     row=row\n",
    "        return row\n",
    "    color_df['color'] = color_df['color'].apply(remove_nostock)\n",
    "\n",
    "    def to_hsv( color ): \n",
    "        \"\"\" converts color tuples to floats and then to hsv \"\"\"\n",
    "        return rgb_to_hsv(*[x/255.0 for x in color]) #rgb_to_hsv wants floats!\n",
    "    color_df['hsv'] = color_df['(r, g, b)'].apply(to_hsv)\n",
    "\n",
    "    def color_dist( c1, c2):\n",
    "        \"\"\" returns the squared euklidian distance between two color vectors in hsv space \"\"\"\n",
    "        return sum( (a-b)**2 for a,b in zip(to_hsv(c1),to_hsv(c2)) )\n",
    "\n",
    "    for i in range(len(color_df['hsv'])):\n",
    "        close_color[color_df['hsv'][i]] = (color_df['product_name'][i], color_df['color'][i], color_dist(color_to_match, color_df['hsv'][i]))\n",
    "    close_color_ = sorted(close_color.items(), key=lambda x: x[1][1])\n",
    "    for key, value in close_color_:\n",
    "        if value[0] or value[1]  != None:\n",
    "            l.append([value[0], value[1]])\n",
    "        if value[1] == None:\n",
    "            l.append(value[0])\n",
    "        if value[0] ==None:\n",
    "            l.append(value[1])\n",
    "    return l[:5]"
   ]
  },
  {
   "cell_type": "code",
   "execution_count": 35,
   "metadata": {},
   "outputs": [
    {
     "name": "stdout",
     "output_type": "stream",
     "text": [
      "[['On The Dot Mini Le Marc Liquid Lip Crayon Trio', ''], ['Rouge Shine Lipstick', ' 19 v.i.p'], ['Rouge Shine Lipstick', ' 42 walk of fame'], ['Rouge Cream Lipstick', ' Magnetism 27 deep browned bronze'], ['Sexy Nude Gloss Balm Kit', '0']]\n"
     ]
    }
   ],
   "source": [
    "color_to_match = (255,255,0)\n",
    "z = min_color_diff( color_to_match)\n",
    "print(min_color_diff( color_to_match))"
   ]
  },
  {
   "cell_type": "code",
   "execution_count": null,
   "metadata": {},
   "outputs": [],
   "source": []
  }
 ],
 "metadata": {
  "kernelspec": {
   "display_name": "Python 3",
   "language": "python",
   "name": "python3"
  },
  "language_info": {
   "codemirror_mode": {
    "name": "ipython",
    "version": 3
   },
   "file_extension": ".py",
   "mimetype": "text/x-python",
   "name": "python",
   "nbconvert_exporter": "python",
   "pygments_lexer": "ipython3",
   "version": "3.6.5"
  }
 },
 "nbformat": 4,
 "nbformat_minor": 2
}
