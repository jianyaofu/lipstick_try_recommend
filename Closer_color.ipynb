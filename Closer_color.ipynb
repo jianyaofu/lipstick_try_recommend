{
 "cells": [
  {
   "cell_type": "markdown",
   "metadata": {},
   "source": [
    "<h1> Sample"
   ]
  },
  {
   "cell_type": "code",
   "execution_count": 26,
   "metadata": {},
   "outputs": [],
   "source": [
    "from colorsys import rgb_to_hsv"
   ]
  },
  {
   "cell_type": "code",
   "execution_count": 27,
   "metadata": {},
   "outputs": [
    {
     "name": "stdout",
     "output_type": "stream",
     "text": [
      "(196, 2, 51)\n",
      "(255, 165, 0)\n",
      "(255, 205, 0)\n",
      "(0, 128, 0)\n",
      "(0, 0, 255)\n",
      "(127, 0, 255)\n",
      "(0, 0, 0)\n",
      "(255, 255, 255)\n"
     ]
    }
   ],
   "source": [
    "colors = dict((\n",
    "((196, 2, 51), \"RED\"),\n",
    "((255, 165, 0), \"ORANGE\"),\n",
    "((255, 205, 0), \"YELLOW\"),\n",
    "((0, 128, 0), \"GREEN\"),\n",
    "((0, 0, 255), \"BLUE\"),\n",
    "((127, 0, 255), \"VIOLET\"),\n",
    "((0, 0, 0), \"BLACK\"),\n",
    "((255, 255, 255), \"WHITE\"),))\n",
    "colors\n",
    "close_color={}\n",
    "for test in colors:\n",
    "    print(test)\n",
    "#     close_color[test] = {colors[test]: color_dist(color_to_match, test)}\n",
    "# # close_color = sorted(close_color.items(), key=lambda x: x[0][1])\n",
    "# print(close_color)\n",
    "# for x in colors:\n",
    "#     print(x)"
   ]
  },
  {
   "cell_type": "code",
   "execution_count": 28,
   "metadata": {},
   "outputs": [
    {
     "name": "stdout",
     "output_type": "stream",
     "text": [
      "('RED', 0.6796935493466238)\n",
      "('ORANGE', 0.0034602076124567458)\n",
      "('YELLOW', 0.0010679653124866502)\n",
      "('GREEN', 0.27582083813917724)\n",
      "('BLUE', 0.25)\n",
      "('VIOLET', 0.33989662095775136)\n",
      "('BLACK', 2.0277777777777777)\n",
      "('WHITE', 1.0277777777777777)\n",
      "['BLACK', 'BLUE', 'GREEN', 'ORANGE', 'RED']\n"
     ]
    }
   ],
   "source": [
    "def to_hsv( color ): \n",
    "    \"\"\" converts color tuples to floats and then to hsv \"\"\"\n",
    "    return rgb_to_hsv(*[x/255.0 for x in color]) #rgb_to_hsv wants floats!\n",
    "\n",
    "def color_dist( c1, c2):\n",
    "    \"\"\" returns the squared euklidian distance between two color vectors in hsv space \"\"\"\n",
    "    return sum( (a-b)**2 for a,b in zip(to_hsv(c1),to_hsv(c2)) )\n",
    "\n",
    "\n",
    "# min( # overal best is the best match to any color:\n",
    "#         (color_dist(color_to_match, test), colors[test]) # (distance to `test` color, color name)\n",
    "#         for test in colors)\n",
    "\n",
    "color_to_match = (255,255,0)\n",
    "print (min_color_diff( color_to_match, colors))"
   ]
  },
  {
   "cell_type": "code",
   "execution_count": 44,
   "metadata": {},
   "outputs": [
    {
     "name": "stdout",
     "output_type": "stream",
     "text": [
      "[((0, 0, 0), ('BLACK', 2.0027339911999658)), ((255, 255, 255), ('WHITE', 1.0027339911999658)), ((196, 2, 51), ('RED', 0.8737780784708085)), ((127, 0, 255), ('VIOLET', 0.48634670425904564)), ((0, 0, 255), ('BLUE', 0.37746166004528164)), ((0, 128, 0), ('GREEN', 0.3270297748729121)), ((255, 205, 0), ('YELLOW', 0.006674783203041563)), ((255, 165, 0), ('ORANGE', 0.00308641975308642))]\n",
      "[((0, 0, 0), ('BLACK', 2.0027339911999658)), ((255, 255, 255), ('WHITE', 1.0027339911999658)), ((196, 2, 51), ('RED', 0.8737780784708085)), ((127, 0, 255), ('VIOLET', 0.48634670425904564)), ((0, 0, 255), ('BLUE', 0.37746166004528164)), ((0, 128, 0), ('GREEN', 0.3270297748729121)), ((255, 205, 0), ('YELLOW', 0.006674783203041563)), ((255, 165, 0), ('ORANGE', 0.00308641975308642))]\n"
     ]
    },
    {
     "data": {
      "text/plain": [
       "['BLACK', 'WHITE', 'RED', 'VIOLET', 'BLUE']"
      ]
     },
     "execution_count": 44,
     "metadata": {},
     "output_type": "execute_result"
    }
   ],
   "source": [
    "close_color ={}\n",
    "l=[]\n",
    "def min_color_diff( color_to_match, colors):\n",
    "    \"\"\" returns the `(distance, color_name)` with the minimal distance to `colors` choose 5 closest color\"\"\"\n",
    "#     close_color ={}\n",
    "#     new_dict= {}\n",
    "    for test in colors:\n",
    "        close_color[test] = (colors[test], color_dist(color_to_match, test))\n",
    "#         print(close_color[test])\n",
    "# close_color = sorted(close_color.items(), key=lambda x: x[0][1])\n",
    "    close_color_ = sorted(close_color.items(), key=lambda x: x[1][1],reverse=True)\n",
    "    print(close_color_)\n",
    "    for key, value in close_color_:\n",
    "        l.append(value[0])\n",
    "    return l[:5]\n",
    "# close_color.items()\n",
    "color_to_match = (255,80,0)\n",
    "z = min_color_diff( color_to_match, colors)\n",
    "min_color_diff( color_to_match, colors)"
   ]
  },
  {
   "cell_type": "code",
   "execution_count": null,
   "metadata": {},
   "outputs": [],
   "source": [
    "[((0, 0, 0), ('BLACK', 2.490624637543182)), ((255, 255, 255), ('WHITE', 1.4906246375431822)), ((255, 165, 0), ('ORANGE', 0.839474352309852)), ((255, 205, 0), ('YELLOW', 0.7944512438496042)), ((0, 128, 0), ('GREEN', 0.7441437622041757)), ((0, 0, 255), ('BLUE', 0.1747793805214548)), ((127, 0, 255), ('VIOLET', 0.12932300142032366)), ((196, 2, 51), ('RED', 0.12397053108187157))]\n",
    "[((0, 0, 0), ('BLACK', 2.490624637543182)), ((255, 255, 255), ('WHITE', 1.4906246375431822)), ((255, 165, 0), ('ORANGE', 0.839474352309852)), ((255, 205, 0), ('YELLOW', 0.7944512438496042)), ((0, 128, 0), ('GREEN', 0.7441437622041757)), ((0, 0, 255), ('BLUE', 0.1747793805214548)), ((127, 0, 255), ('VIOLET', 0.12932300142032366)), ((196, 2, 51), ('RED', 0.12397053108187157))]\n",
    "\n",
    "['BLACK', 'WHITE', 'ORANGE', 'YELLOW', 'GREEN']"
   ]
  },
  {
   "cell_type": "code",
   "execution_count": 21,
   "metadata": {},
   "outputs": [
    {
     "data": {
      "text/plain": [
       "dict_items([((196, 2, 51), ('RED', 1.0639153989920815)), ((255, 165, 0), ('ORANGE', 0.6463514033064206)), ((255, 205, 0), ('YELLOW', 0.6474449997864069)), ((0, 128, 0), ('GREEN', 0.14800845828527492)), ((0, 0, 255), ('BLUE', 0.9674009996155324)), ((127, 0, 255), ('VIOLET', 1.0683651586996454)), ((0, 0, 0), ('BLACK', 1.0484467512495195)), ((255, 255, 255), ('WHITE', 1.6562898885044213))])"
      ]
     },
     "execution_count": 21,
     "metadata": {},
     "output_type": "execute_result"
    }
   ],
   "source": [
    "close_color.items()"
   ]
  },
  {
   "cell_type": "code",
   "execution_count": null,
   "metadata": {},
   "outputs": [],
   "source": [
    "import tkinter as tk\n",
    "from tkinter import filedialog\n",
    "z = min_color_diff( color_to_match, colors)\n",
    "# import cv2\n",
    "from PIL import Image\n",
    "from PIL import ImageTk        \n",
    "root = tk.Tk()\n",
    "root.title('Model Definition')\n",
    "#root.geometry('{}x{}'.format(800, 650))\n",
    "z = min_color_diff( color_to_match, colors)\n",
    "listb  = Listbox(root)          #  创建两个列表组件\n",
    "# for i in range(len(z)):                 # 第一个小部件插入数据\n",
    "# text=tk.Text(root,width=20,height=20)\n",
    "# text.pack(fill=tk.X,side=tk.BOTTOM  )\n",
    "for i in range(len(z)):\n",
    "    Lab1=Label(root,bg='white',text=f'{z[i]}', anchor='nw').pack()\n",
    "# for i in range(len(z)):                 # 第一个小部件插入数据\n",
    "#     listb.insert(i,z[i])\n",
    "# listb.insert(0,z)\n",
    " \n",
    "# listb.pack() \n",
    "\n",
    "w = 800 # width for the Tk root\n",
    "h = 650 # height for the Tk root\n",
    "\n",
    "# get screen width and height\n",
    "ws = root.winfo_screenwidth() # width of the screen\n",
    "hs = root.winfo_screenheight() # height of the screen\n",
    "\n",
    "root.mainloop()  "
   ]
  },
  {
   "cell_type": "code",
   "execution_count": null,
   "metadata": {},
   "outputs": [],
   "source": [
    "from tkinter import *           # 导入 Tkinter 库\n",
    "root = Tk()                     # 创建窗口对象的背景色\n",
    "                                # 创建两个列表\n",
    "z = min_color_diff( color_to_match, colors)\n",
    "# li     = ['C','python','php','html','SQL','java']\n",
    "# movie  = ['CSS','jQuery','Bootstrap']\n",
    "listb  = Listbox(root)          #  创建两个列表组件\n",
    "for i in range(len(z)):                 # 第一个小部件插入数据\n",
    "    listb.insert(i,z[i])\n",
    " \n",
    "\n",
    " \n",
    "listb.pack()                    # 将小部件放置到主窗口中\n",
    "\n",
    "root.mainloop()    "
   ]
  },
  {
   "cell_type": "markdown",
   "metadata": {},
   "source": [
    "<h1>Test:"
   ]
  },
  {
   "cell_type": "code",
   "execution_count": null,
   "metadata": {},
   "outputs": [],
   "source": [
    "from colorsys import rgb_to_hsv\n",
    "import pandas as pd"
   ]
  },
  {
   "cell_type": "code",
   "execution_count": null,
   "metadata": {},
   "outputs": [],
   "source": [
    "color_df = pd.read_csv('lipstick_colors.csv')\n",
    "# color_df.drop(color_df['Unnamed: 0'])\n",
    "color_df = color_df.drop(['Unnamed: 0'],axis = 1)\n",
    "color_df = color_df.fillna(value=str(0))\n",
    "color_df.loc[1023]"
   ]
  },
  {
   "cell_type": "code",
   "execution_count": null,
   "metadata": {},
   "outputs": [],
   "source": [
    "rgb = color_df['(r, g, b)']\n",
    "rgb"
   ]
  },
  {
   "cell_type": "code",
   "execution_count": null,
   "metadata": {},
   "outputs": [],
   "source": [
    "import re \n",
    "\n",
    "pattern = r'(\\d+)'\n",
    "def get_tuple(row):\n",
    "    match = re.findall(pattern, row)\n",
    "    tuple_=(float(match[0]), float(match[1]), float(match[2]))\n",
    "    return tuple_\n",
    "color_df['(r, g, b)'] = color_df['(r, g, b)'].apply(get_tuple)"
   ]
  },
  {
   "cell_type": "code",
   "execution_count": null,
   "metadata": {},
   "outputs": [],
   "source": [
    "\n",
    "pattern = r'^\\w{3} \\w{2} \\w{5}: '\n",
    "def remove_nostock(row):\n",
    "#     pattern = r'^\\w{3} \\w{2} \\w{5}: '\n",
    "    match = re.search(pattern, row)\n",
    "    if match:\n",
    "        row = row[14:]\n",
    "#     row=row\n",
    "    return row\n",
    "color_df['color'] = color_df['color'].apply(remove_nostock)"
   ]
  },
  {
   "cell_type": "code",
   "execution_count": null,
   "metadata": {},
   "outputs": [],
   "source": [
    "color_df"
   ]
  },
  {
   "cell_type": "code",
   "execution_count": null,
   "metadata": {},
   "outputs": [],
   "source": [
    "def to_hsv( color ): \n",
    "    \"\"\" converts color tuples to floats and then to hsv \"\"\"\n",
    "    return rgb_to_hsv(*[x/255.0 for x in color]) #rgb_to_hsv wants floats!\n",
    "\n",
    "\n",
    "color_df['hsv'] = color_df['(r, g, b)'].apply(to_hsv)"
   ]
  },
  {
   "cell_type": "code",
   "execution_count": null,
   "metadata": {},
   "outputs": [],
   "source": [
    "color_df['hsv']"
   ]
  },
  {
   "cell_type": "code",
   "execution_count": null,
   "metadata": {},
   "outputs": [],
   "source": [
    "def color_dist( c1, c2):\n",
    "    \"\"\" returns the squared euklidian distance between two color vectors in hsv space \"\"\"\n",
    "    return sum( (a-b)**2 for a,b in zip(to_hsv(c1),to_hsv(c2)) )"
   ]
  },
  {
   "cell_type": "code",
   "execution_count": null,
   "metadata": {},
   "outputs": [],
   "source": [
    "close_color ={}\n",
    "l=[]\n",
    "def min_color_diff( color_to_match):\n",
    "    \"\"\" returns the `(distance, color_name)` with the minimal distance to `colors` choose 5 closest color\"\"\"\n",
    "\n",
    "    for i in range(len(color_df['hsv'])):\n",
    "        close_color[color_df['hsv'][i]] = (color_df['product_name'][i], color_df['color'][i], color_dist(color_to_match, color_df['hsv'][i]))\n",
    "# close_color = sorted(close_color.items(), key=lambda x: x[0][1])\n",
    "    close_color_ = sorted(close_color.items(), key=lambda x: x[1][1])\n",
    "    for key, value in close_color_:\n",
    "        if value[0] or value[1]  != None:\n",
    "            l.append([value[0], value[1]])\n",
    "        if value[1] == None:\n",
    "            l.append(value[0])\n",
    "        if value[0] ==None:\n",
    "            l.append(value[1])\n",
    "    return l[:5]\n",
    "# close_color.items()\n",
    "color_to_match = (255,255,0)\n",
    "z = min_color_diff( color_to_match)\n",
    "print(min_color_diff( color_to_match))"
   ]
  },
  {
   "cell_type": "code",
   "execution_count": null,
   "metadata": {},
   "outputs": [],
   "source": []
  },
  {
   "cell_type": "markdown",
   "metadata": {},
   "source": [
    "<h1>Summary"
   ]
  },
  {
   "cell_type": "code",
   "execution_count": 1,
   "metadata": {},
   "outputs": [],
   "source": [
    "from colorsys import rgb_to_hsv\n",
    "import pandas as pd\n"
   ]
  },
  {
   "cell_type": "code",
   "execution_count": 2,
   "metadata": {},
   "outputs": [],
   "source": [
    "#clean data\n",
    "color_df = pd.read_csv('lipstick_colors.csv')\n",
    "# color_df.drop(color_df['Unnamed: 0'])\n",
    "color_df = color_df.drop(['Unnamed: 0'],axis = 1)\n",
    "color_df = color_df.fillna(value=str(0))"
   ]
  },
  {
   "cell_type": "code",
   "execution_count": 3,
   "metadata": {},
   "outputs": [],
   "source": [
    "from colorsys import rgb_to_hsv\n",
    "import pandas as pd\n",
    "\n",
    "import re \n",
    "\n",
    "#Clean Dataset\n",
    "pattern = r'(\\d+)'\n",
    "def get_tuple(row):\n",
    "    match = re.findall(pattern, row)\n",
    "    tuple_=(float(match[0]), float(match[1]), float(match[2]))\n",
    "    return tuple_\n",
    "color_df['(r, g, b)'] = color_df['(r, g, b)'].apply(get_tuple)\n",
    "\n",
    "pattern_ = r'^\\w{3} \\w{2} \\w{5}: '\n",
    "def remove_nostock(row):\n",
    "#     pattern = r'^\\w{3} \\w{2} \\w{5}: '\n",
    "    match = re.search(pattern_, row)\n",
    "    if match:\n",
    "        row = row[14:]\n",
    "#     row=row\n",
    "    return row\n",
    "color_df['color'] = color_df['color'].apply(remove_nostock)\n",
    "\n",
    "# add a column to convert rgb to hsv\n",
    "def to_hsv( color ): \n",
    "    \"\"\" converts color tuples to floats and then to hsv \"\"\"\n",
    "    return rgb_to_hsv(*[x/255.0 for x in color]) #rgb_to_hsv wants floats!\n",
    "color_df['hsv'] = color_df['(r, g, b)'].apply(to_hsv)\n",
    "\n",
    "close_color ={}\n",
    "l=[]\n",
    "def min_color_diff( color_to_match):\n",
    "    \"\"\" returns the `(distance, color_name)` with the minimal distance to `colors` choose 5 closest color\"\"\"\n",
    "    def color_dist( c1, c2):\n",
    "        \"\"\" returns the squared euklidian distance between two color vectors in hsv space \"\"\"\n",
    "        return sum( (a-b)**2 for a,b in zip(to_hsv(c1),to_hsv(c2)) )\n",
    "\n",
    "    for i in range(len(color_df['hsv'])):\n",
    "        close_color[color_df['hsv'][i]] = (color_df['product_name'][i], color_df['color'][i], color_dist(color_to_match, color_df['hsv'][i]))\n",
    "    close_color_ = sorted(close_color.items(), key=lambda x: x[1][1])\n",
    "    for key, value in close_color_:\n",
    "        if value[0] or value[1]  != None:\n",
    "            l.append([value[0], value[1]])\n",
    "        if value[1] == None:\n",
    "            l.append(value[0])\n",
    "        if value[0] ==None:\n",
    "            l.append(value[1])\n",
    "    return l[:5]"
   ]
  },
  {
   "cell_type": "code",
   "execution_count": 4,
   "metadata": {},
   "outputs": [
    {
     "name": "stdout",
     "output_type": "stream",
     "text": [
      "[['On The Dot Mini Le Marc Liquid Lip Crayon Trio', ''], ['Rouge Shine Lipstick', ' 19 v.i.p'], ['Rouge Shine Lipstick', ' 42 walk of fame'], ['Rouge Cream Lipstick', ' Magnetism 27 deep browned bronze'], ['Sexy Nude Gloss Balm Kit', '0']]\n"
     ]
    }
   ],
   "source": [
    "color_to_match = (255,255,0)\n",
    "z = min_color_diff( color_to_match)\n",
    "print(min_color_diff( color_to_match))"
   ]
  },
  {
   "cell_type": "code",
   "execution_count": 12,
   "metadata": {},
   "outputs": [
    {
     "ename": "TypeError",
     "evalue": "index() takes at least 1 argument (0 given)",
     "output_type": "error",
     "traceback": [
      "\u001b[0;31m---------------------------------------------------------------------------\u001b[0m",
      "\u001b[0;31mTypeError\u001b[0m                                 Traceback (most recent call last)",
      "\u001b[0;32m<ipython-input-12-3b411a754207>\u001b[0m in \u001b[0;36m<module>\u001b[0;34m()\u001b[0m\n\u001b[1;32m      1\u001b[0m \u001b[0mproduct\u001b[0m \u001b[0;34m=\u001b[0m \u001b[0mcolor_df\u001b[0m\u001b[0;34m[\u001b[0m\u001b[0;34m'product_name'\u001b[0m\u001b[0;34m]\u001b[0m\u001b[0;34m\u001b[0m\u001b[0m\n\u001b[0;32m----> 2\u001b[0;31m \u001b[0;34m'On The Dot Mini Le Marc Liquid Lip Crayon Trio'\u001b[0m\u001b[0;34m.\u001b[0m\u001b[0mindex\u001b[0m\u001b[0;34m(\u001b[0m\u001b[0;34m)\u001b[0m\u001b[0;34m\u001b[0m\u001b[0m\n\u001b[0m",
      "\u001b[0;31mTypeError\u001b[0m: index() takes at least 1 argument (0 given)"
     ]
    }
   ],
   "source": [
    "product = color_df['product_name']\n",
    "'On The Dot Mini Le Marc Liquid Lip Crayon Trio'.index()"
   ]
  },
  {
   "cell_type": "code",
   "execution_count": null,
   "metadata": {},
   "outputs": [],
   "source": []
  }
 ],
 "metadata": {
  "kernelspec": {
   "display_name": "Python 3",
   "language": "python",
   "name": "python3"
  },
  "language_info": {
   "codemirror_mode": {
    "name": "ipython",
    "version": 3
   },
   "file_extension": ".py",
   "mimetype": "text/x-python",
   "name": "python",
   "nbconvert_exporter": "python",
   "pygments_lexer": "ipython3",
   "version": "3.6.5"
  }
 },
 "nbformat": 4,
 "nbformat_minor": 2
}
