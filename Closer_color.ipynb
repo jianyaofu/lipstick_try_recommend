{
 "cells": [
  {
   "cell_type": "code",
   "execution_count": 12,
   "metadata": {},
   "outputs": [],
   "source": [
    "close_color ={}\n",
    "l=[]\n",
    "def min_color_diff( color_to_match: tuple):\n",
    "    \"\"\" returns the `(distance, color_name)` with the minimal distance to `colors` choose 5 closest color\"\"\"\n",
    "    from colorsys import rgb_to_hsv\n",
    "    import pandas as pd\n",
    "    import re \n",
    "    \n",
    "    #clean data\n",
    "    color_df = pd.read_csv('lipstick.csv')\n",
    "    color_df = color_df.drop(['Unnamed: 0'],axis = 1)\n",
    "    color_df = color_df.fillna(value=str(0))\n",
    "    \n",
    "    #change the rgb column to tuple\n",
    "    pattern = r'(\\d+)'\n",
    "    def get_tuple(row):\n",
    "        match = re.findall(pattern, row)\n",
    "        tuple_=(float(match[0]), float(match[1]), float(match[2]))\n",
    "        return tuple_\n",
    "    color_df['rgb'] = color_df['rgb'].apply(get_tuple)\n",
    "    \n",
    "    #remove 'out of stock'\n",
    "    pattern_ = r'^\\w{3} \\w{2} \\w{5}: '\n",
    "    def remove_nostock(row):\n",
    "        match = re.search(pattern_, row)\n",
    "        if match:\n",
    "            row = row[14:]\n",
    "        return row\n",
    "    color_df['color'] = color_df['color'].apply(remove_nostock)\n",
    "\n",
    "    def to_hsv( color ): \n",
    "        \"\"\" converts color tuples to floats and then to hsv \"\"\"\n",
    "        return rgb_to_hsv(*[x/255.0 for x in color]) #rgb_to_hsv wants floats!\n",
    "    color_df['hsv'] = color_df['rgb'].apply(to_hsv)\n",
    "\n",
    "    def color_dist( c1, c2):\n",
    "        \"\"\" returns the squared euklidian distance between two color vectors in hsv space \"\"\"\n",
    "        return sum( (a-b)**2 for a,b in zip(to_hsv(c1),to_hsv(c2)) )\n",
    "\n",
    "    for i in range(len(color_df['hsv'])):\n",
    "        close_color[color_df['hsv'][i]] = (color_df['brand_name'][i], color_df['product_name'][i], color_df['color'][i], color_dist(color_to_match, color_df['hsv'][i]))\n",
    "\n",
    "    \n",
    "    close_color_ = sorted(close_color.items(), key=lambda x: x[1][3])\n",
    "\n",
    "    for key, value in close_color_:\n",
    "        l.append([value[0], value[1], value[2]])\n",
    "    return l[:5]"
   ]
  },
  {
   "cell_type": "code",
   "execution_count": 14,
   "metadata": {},
   "outputs": [
    {
     "data": {
      "text/plain": [
       "[['DIOR', 'Rouge Dior Ultra Rouge Lipstick', '111 Ultra Night Pure Black'],\n",
       " ['PAT MCGRATH LABS', 'MatteTrance™ Lipstick', 'McMenamy 200 deep burgundy'],\n",
       " ['BUXOM', 'Va-Va-PLUMP™ Shiny Liquid Lipstick', 'Make Me Melt true brown'],\n",
       " ['GIVENCHY',\n",
       "  'Le Rouge Lipstick',\n",
       "  'Brun Baroque N111 deep bold chestnut brown (matte finish)'],\n",
       " ['BLACK UP', 'Lipshine', 'LIPS 01 champagne']]"
      ]
     },
     "execution_count": 14,
     "metadata": {},
     "output_type": "execute_result"
    }
   ],
   "source": [
    "# color_to_match = (50,200,0)\n",
    "# z = min_color_diff( color_to_match)\n",
    "# min_color_diff( color_to_match)"
   ]
  },
  {
   "cell_type": "code",
   "execution_count": null,
   "metadata": {},
   "outputs": [],
   "source": [
    "# [['Rouge Dior Ultra Rouge Lipstick', '111 Ultra Night Pure Black'],\n",
    "#  ['MatteTrance™ Lipstick', 'McMenamy 200 deep burgundy'],\n",
    "#  ['Le Rouge Lipstick',\n",
    "#   'Brun Baroque N111 deep bold chestnut brown (matte finish)'],\n",
    "#  ['Everlasting Liquid Lipstick', 'Plath deep russet red'],\n",
    "#  ['Rouge Interdit Satin Lipstick - Marble',\n",
    "#   '25 Rouge Révélateur made-to-measure dark red']]"
   ]
  },
  {
   "cell_type": "code",
   "execution_count": null,
   "metadata": {},
   "outputs": [],
   "source": []
  }
 ],
 "metadata": {
  "kernelspec": {
   "display_name": "Python 3",
   "language": "python",
   "name": "python3"
  },
  "language_info": {
   "codemirror_mode": {
    "name": "ipython",
    "version": 3
   },
   "file_extension": ".py",
   "mimetype": "text/x-python",
   "name": "python",
   "nbconvert_exporter": "python",
   "pygments_lexer": "ipython3",
   "version": "3.6.5"
  }
 },
 "nbformat": 4,
 "nbformat_minor": 2
}
