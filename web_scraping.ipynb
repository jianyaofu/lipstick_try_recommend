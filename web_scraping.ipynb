{
 "cells": [
  {
   "cell_type": "code",
   "execution_count": 1,
   "metadata": {},
   "outputs": [],
   "source": [
    "import requests\n",
    "from bs4 import BeautifulSoup\n",
    "import numpy as np\n",
    "import pandas as pd\n",
    "# from selenium import webdriver\n",
    "# from selenium.webdriver.common.by import By\n",
    "import time\n",
    "from io import BytesIO\n",
    "from PIL import Image\n",
    "import random\n",
    "import re\n",
    "import json"
   ]
  },
  {
   "cell_type": "code",
   "execution_count": 2,
   "metadata": {},
   "outputs": [],
   "source": [
    "# get all lipstick links from Sephora\n",
    "def get_lipstick_links():\n",
    "    url = 'https://www.sephora.com/shop/lips-makeup?pageSize=12&currentPage='\n",
    "    headers = {'user-agent': 'Mozilla/5.0 (Macintosh; Intel Mac OS X 10_11_6) AppleWebKit/537.36 (KHTML, like Gecko) Chrome/53.0.2785.143 Safari/537.36'}\n",
    "    lipstick_links = list()\n",
    "    page_number = 1\n",
    "    while True:\n",
    "        time.sleep(1)\n",
    "        try:\n",
    "            is_valid_page = False\n",
    "            response = requests.get(url + str(page_number), headers = headers, timeout = 5)\n",
    "            if not response.status_code == 200:\n",
    "                return f'Http Errors: {response.status_code}'\n",
    "            else:\n",
    "                result_page = BeautifulSoup(response.content, 'lxml')\n",
    "                all_a_tags = result_page.find_all('a')\n",
    "                for tag in all_a_tags:\n",
    "                    if tag.get('href').startswith('/product'):\n",
    "                        is_valid_page = True\n",
    "                        link = 'https://www.sephora.com' + tag.get('href')\n",
    "                        lipstick_links.append(link)\n",
    "            if is_valid_page:\n",
    "                page_number += 1\n",
    "            else:\n",
    "                return lipstick_links\n",
    "        except:\n",
    "            return None"
   ]
  },
  {
   "cell_type": "code",
   "execution_count": 3,
   "metadata": {},
   "outputs": [],
   "source": [
    "lipstick_links = get_lipstick_links()"
   ]
  },
  {
   "cell_type": "code",
   "execution_count": null,
   "metadata": {},
   "outputs": [],
   "source": []
  },
  {
   "cell_type": "code",
   "execution_count": 5,
   "metadata": {},
   "outputs": [],
   "source": [
    "# get basic lipstick info including product_name(str), brand_name(str), price(float), love_count(int)\n",
    "def get_lipstick_info(lipstick_link):\n",
    "    time.sleep(1)\n",
    "    lipstick_info = dict()\n",
    "    headers = {'user-agent': 'Mozilla/5.0 (Macintosh; Intel Mac OS X 10_11_6) AppleWebKit/537.36 (KHTML, like Gecko) Chrome/53.0.2785.143 Safari/537.36'}\n",
    "    response = requests.get(lipstick_link, headers = headers, timeout = 5)\n",
    "    if not response.status_code == 200:\n",
    "        return f'Http Errors: {response.status_code}'\n",
    "    else:\n",
    "        result_page = BeautifulSoup(response.content, 'lxml')\n",
    "        try:\n",
    "            product_name = result_page.find('span',class_='css-r4ddnb ').get_text().strip()\n",
    "        except:\n",
    "            product_name = np.nan\n",
    "        try:\n",
    "            brand_name = result_page.find('img', attrs = {'data-comp': 'BrandLogo Image Box'}).get('alt').strip().upper()\n",
    "        except:\n",
    "            brand_name = np.nan\n",
    "        try:\n",
    "            if len(list(result_page.find('div', attrs = {'data-comp': 'Price Box'}).children)) > 1:\n",
    "                price = float(result_page.find('div', attrs = {'data-comp': 'Price Box'}).get_text()[:6].replace('$', ''))\n",
    "            else:\n",
    "                price = float(result_page.find('div', attrs = {'data-comp': 'Price Box'}).get_text().strip().replace('$', ''))\n",
    "        except:\n",
    "            price = np.nan\n",
    "        try:\n",
    "            love_count = int(result_page.find('span', attrs = {'data-at': 'product_love_count'}).get_text().strip())\n",
    "        except:\n",
    "            love_count = np.nan\n",
    "        lipstick_info['product_name'] = product_name\n",
    "        lipstick_info['brand_name'] = brand_name\n",
    "        lipstick_info['price'] = price\n",
    "        lipstick_info['love_count'] = love_count\n",
    "        lipstick_info['link'] = lipstick_link\n",
    "        return lipstick_info"
   ]
  },
  {
   "cell_type": "code",
   "execution_count": 6,
   "metadata": {},
   "outputs": [],
   "source": [
    "# create a pandas data fram to store all the lipstick basic info and get the csv file\n",
    "lipstick_info_df = pd.DataFrame({'product_name': [get_lipstick_info(url)['product_name'] for url in lipstick_links],\n",
    "                                'brand_name': [get_lipstick_info(url)['brand_name'] for url in lipstick_links],\n",
    "                                'price': [get_lipstick_info(url)['price'] for url in lipstick_links],\n",
    "                                'love_count': [get_lipstick_info(url)['love_count'] for url in lipstick_links],\n",
    "                                'link': [get_lipstick_info(url)['link'] for url in lipstick_links]})\n",
    "lipstick_info_df.to_csv('lipstick_info.csv')"
   ]
  },
  {
   "cell_type": "code",
   "execution_count": null,
   "metadata": {},
   "outputs": [],
   "source": []
  },
  {
   "cell_type": "code",
   "execution_count": 39,
   "metadata": {},
   "outputs": [],
   "source": [
    "# get the text info of lipsticks, including product_name, details, how_to_use and about_the_brand\n",
    "def get_lipstick_text_info(lipstick_link):\n",
    "    time.sleep(1)\n",
    "    lipstick_text_info = dict()\n",
    "    headers = {'user-agent': 'Mozilla/5.0 (Macintosh; Intel Mac OS X 10_11_6) AppleWebKit/537.36 (KHTML, like Gecko) Chrome/53.0.2785.143 Safari/537.36'}\n",
    "    response = requests.get(lipstick_link, headers = headers, timeout = 5)\n",
    "    if not response.status_code == 200:\n",
    "        return f'Http Errors: {response.status_code}'\n",
    "    else:\n",
    "        result_page = BeautifulSoup(response.content, 'lxml')\n",
    "        try:\n",
    "            product_name = result_page.find('span', class_ = 'css-r4ddnb ').get_text().strip()\n",
    "        except:\n",
    "            product_name = np.nan\n",
    "        try:\n",
    "            details = result_page.find_all('div', class_ = 'css-192qj50')[0].get_text().strip()\n",
    "        except:\n",
    "            details = np.nan\n",
    "        try:\n",
    "            how_to_use = result_page.find_all('div', class_ = 'css-192qj50')[1].get_text().strip()\n",
    "        except:\n",
    "            how_to_use = np.nan\n",
    "        try:\n",
    "            about_the_brand = result_page.find('p', class_='css-1loxqbt').get_text().strip()\n",
    "        except:\n",
    "            about_the_brand = np.nan\n",
    "        lipstick_text_info['product_name'] = product_name\n",
    "        lipstick_text_info['details'] = details\n",
    "        lipstick_text_info['how_to_use'] = how_to_use\n",
    "        lipstick_text_info['about_the_brand'] = about_the_brand\n",
    "        return lipstick_text_info"
   ]
  },
  {
   "cell_type": "code",
   "execution_count": 12,
   "metadata": {},
   "outputs": [
    {
     "ename": "TypeError",
     "evalue": "string indices must be integers",
     "output_type": "error",
     "traceback": [
      "\u001b[1;31m---------------------------------------------------------------------------\u001b[0m",
      "\u001b[1;31mTypeError\u001b[0m                                 Traceback (most recent call last)",
      "\u001b[1;32m<ipython-input-12-fc1fbbda1827>\u001b[0m in \u001b[0;36m<module>\u001b[1;34m()\u001b[0m\n\u001b[1;32m----> 1\u001b[1;33m lipstick_text_info_df = pd.DataFrame({'product_name': [get_lipstick_text_info(url)['product_name'] for url in lipstick_links],\n\u001b[0m\u001b[0;32m      2\u001b[0m                                 \u001b[1;34m'details'\u001b[0m\u001b[1;33m:\u001b[0m \u001b[1;33m[\u001b[0m\u001b[0mget_lipstick_text_info\u001b[0m\u001b[1;33m(\u001b[0m\u001b[0murl\u001b[0m\u001b[1;33m)\u001b[0m\u001b[1;33m[\u001b[0m\u001b[1;34m'details'\u001b[0m\u001b[1;33m]\u001b[0m \u001b[1;32mfor\u001b[0m \u001b[0murl\u001b[0m \u001b[1;32min\u001b[0m \u001b[0mlipstick_links\u001b[0m\u001b[1;33m]\u001b[0m\u001b[1;33m,\u001b[0m\u001b[1;33m\u001b[0m\u001b[0m\n\u001b[0;32m      3\u001b[0m                                 \u001b[1;34m'how_to_use'\u001b[0m\u001b[1;33m:\u001b[0m \u001b[1;33m[\u001b[0m\u001b[0mget_lipstick_text_info\u001b[0m\u001b[1;33m(\u001b[0m\u001b[0murl\u001b[0m\u001b[1;33m)\u001b[0m\u001b[1;33m[\u001b[0m\u001b[1;34m'how_to_use'\u001b[0m\u001b[1;33m]\u001b[0m \u001b[1;32mfor\u001b[0m \u001b[0murl\u001b[0m \u001b[1;32min\u001b[0m \u001b[0mlipstick_links\u001b[0m\u001b[1;33m]\u001b[0m\u001b[1;33m,\u001b[0m\u001b[1;33m\u001b[0m\u001b[0m\n\u001b[0;32m      4\u001b[0m                                 'about_the_brand': [get_lipstick_text_info(url)['about_the_brand'] for url in lipstick_links]})\n\u001b[0;32m      5\u001b[0m \u001b[0mlipstick_text_info_df\u001b[0m\u001b[1;33m.\u001b[0m\u001b[0mto_csv\u001b[0m\u001b[1;33m(\u001b[0m\u001b[1;34m'lipstick_text_info.csv'\u001b[0m\u001b[1;33m)\u001b[0m\u001b[1;33m\u001b[0m\u001b[0m\n",
      "\u001b[1;32m<ipython-input-12-fc1fbbda1827>\u001b[0m in \u001b[0;36m<listcomp>\u001b[1;34m(.0)\u001b[0m\n\u001b[1;32m----> 1\u001b[1;33m lipstick_text_info_df = pd.DataFrame({'product_name': [get_lipstick_text_info(url)['product_name'] for url in lipstick_links],\n\u001b[0m\u001b[0;32m      2\u001b[0m                                 \u001b[1;34m'details'\u001b[0m\u001b[1;33m:\u001b[0m \u001b[1;33m[\u001b[0m\u001b[0mget_lipstick_text_info\u001b[0m\u001b[1;33m(\u001b[0m\u001b[0murl\u001b[0m\u001b[1;33m)\u001b[0m\u001b[1;33m[\u001b[0m\u001b[1;34m'details'\u001b[0m\u001b[1;33m]\u001b[0m \u001b[1;32mfor\u001b[0m \u001b[0murl\u001b[0m \u001b[1;32min\u001b[0m \u001b[0mlipstick_links\u001b[0m\u001b[1;33m]\u001b[0m\u001b[1;33m,\u001b[0m\u001b[1;33m\u001b[0m\u001b[0m\n\u001b[0;32m      3\u001b[0m                                 \u001b[1;34m'how_to_use'\u001b[0m\u001b[1;33m:\u001b[0m \u001b[1;33m[\u001b[0m\u001b[0mget_lipstick_text_info\u001b[0m\u001b[1;33m(\u001b[0m\u001b[0murl\u001b[0m\u001b[1;33m)\u001b[0m\u001b[1;33m[\u001b[0m\u001b[1;34m'how_to_use'\u001b[0m\u001b[1;33m]\u001b[0m \u001b[1;32mfor\u001b[0m \u001b[0murl\u001b[0m \u001b[1;32min\u001b[0m \u001b[0mlipstick_links\u001b[0m\u001b[1;33m]\u001b[0m\u001b[1;33m,\u001b[0m\u001b[1;33m\u001b[0m\u001b[0m\n\u001b[0;32m      4\u001b[0m                                 'about_the_brand': [get_lipstick_text_info(url)['about_the_brand'] for url in lipstick_links]})\n\u001b[0;32m      5\u001b[0m \u001b[0mlipstick_text_info_df\u001b[0m\u001b[1;33m.\u001b[0m\u001b[0mto_csv\u001b[0m\u001b[1;33m(\u001b[0m\u001b[1;34m'lipstick_text_info.csv'\u001b[0m\u001b[1;33m)\u001b[0m\u001b[1;33m\u001b[0m\u001b[0m\n",
      "\u001b[1;31mTypeError\u001b[0m: string indices must be integers"
     ]
    }
   ],
   "source": [
    "lipstick_text_info_df = pd.DataFrame({'product_name': [get_lipstick_text_info(url)['product_name'] for url in lipstick_links],\n",
    "                                'details': [get_lipstick_text_info(url)['details'] for url in lipstick_links],\n",
    "                                'how_to_use': [get_lipstick_text_info(url)['how_to_use'] for url in lipstick_links],\n",
    "                                'about_the_brand': [get_lipstick_text_info(url)['about_the_brand'] for url in lipstick_links]})\n",
    "lipstick_text_info_df.to_csv('lipstick_text_info.csv')"
   ]
  },
  {
   "cell_type": "code",
   "execution_count": null,
   "metadata": {},
   "outputs": [],
   "source": []
  },
  {
   "cell_type": "code",
   "execution_count": 40,
   "metadata": {},
   "outputs": [],
   "source": [
    "# get the reviews of each lipstick with its sephora link and return a list of reviews\n",
    "def get_lipstick_reviews(link):\n",
    "    reviews = list()\n",
    "    pattern = re.compile(r'P\\d+')\n",
    "    product_id = re.search(pattern, string = link).group()\n",
    "    off_set = 0\n",
    "    while True:\n",
    "        api_url = ''.join([\"https://api.bazaarvoice.com/data/reviews.json?Filter=ProductId%3A\",\n",
    "                          product_id,\n",
    "                          \"&Sort=Helpfulness%3Adesc&Limit=100&Offset=\",\n",
    "                           str(off_set),\n",
    "                           \"&Include=Products%2CComments&Stats=Reviews&passkey=rwbw526r2e7spptqd2qzbkp7&apiversion=5.4\"])\n",
    "        response = requests.get(api_url)\n",
    "        results = json.loads(response.content, encoding = 'utf-8')['Results']\n",
    "        if results:\n",
    "            for review in results:\n",
    "                reviews.append(review['ReviewText'])\n",
    "        else:\n",
    "            break\n",
    "        off_set += 100\n",
    "    return reviews"
   ]
  },
  {
   "cell_type": "code",
   "execution_count": null,
   "metadata": {},
   "outputs": [],
   "source": []
  },
  {
   "cell_type": "code",
   "execution_count": 21,
   "metadata": {},
   "outputs": [],
   "source": [
    "# get the rgb value of each color of a lipstick\n",
    "def get_lipstick_colors(lipstick_link):\n",
    "    lipstick_colors = dict()\n",
    "    headers = {'user-agent': 'Mozilla/5.0 (Macintosh; Intel Mac OS X 10_11_6) AppleWebKit/537.36 (KHTML, like Gecko) Chrome/53.0.2785.143 Safari/537.36'}\n",
    "    response = requests.get(lipstick_link, headers = headers, timeout = 5)\n",
    "    if not response.status_code == 200:\n",
    "        return f'Http Errors: {response.status_code}'\n",
    "    else:\n",
    "        result_page = BeautifulSoup(response.content, 'lxml')\n",
    "        try:\n",
    "            product_name = result_page.find('span',class_='css-r4ddnb ').get_text().strip()\n",
    "            colors = dict()\n",
    "            if result_page.find('div', class_ = \"css-gth5yg \"):\n",
    "                for tag in result_page.find('div', class_ = \"css-gth5yg \"):\n",
    "                    color = tag.find('div', attrs = {'data-at': 'selected_swatch'})['aria-label']\n",
    "                    img_src = ''.join([\"https://www.sephora.com\", tag.find('img')['src']])\n",
    "                    response = requests.get(img_src, headers = headers, timeout = 5)\n",
    "                    im = Image.open(BytesIO(response.content))\n",
    "                    pix = im.load()\n",
    "                    width = im.size[0]\n",
    "                    height = im.size[1]\n",
    "                    r, g, b = pix[width / 2, height / 2]\n",
    "                    colors[color] = (r, g, b)\n",
    "                    time.sleep(1)\n",
    "        except:\n",
    "            return None\n",
    "    lipstick_colors['product_name'] = product_name\n",
    "    lipstick_colors['colors'] = colors\n",
    "    return lipstick_colors"
   ]
  },
  {
   "cell_type": "code",
   "execution_count": 34,
   "metadata": {},
   "outputs": [],
   "source": [
    "lipstick_colors_df = pd.DataFrame({'product_name': p_list,\n",
    "                                  'color': c_list,\n",
    "                                  '(r, g, b)': rgb_list})\n",
    "lipstick_colors_df.to_csv('lipstick_colors.csv')"
   ]
  },
  {
   "cell_type": "code",
   "execution_count": null,
   "metadata": {},
   "outputs": [],
   "source": []
  },
  {
   "cell_type": "code",
   "execution_count": 13,
   "metadata": {},
   "outputs": [],
   "source": [
    "# combine get_lispstick_info and get_lipstick_colors and generate a csv file containing all the previous attrs of lipsticks\n",
    "def get_lipstick(lipstick_link):\n",
    "    time.sleep(random.randint(1,3))\n",
    "    lipstick = dict()\n",
    "    headers = {'user-agent': 'Mozilla/5.0 (Macintosh; Intel Mac OS X 10_11_6) AppleWebKit/537.36 (KHTML, like Gecko) Chrome/53.0.2785.143 Safari/537.36'}\n",
    "    response = requests.get(lipstick_link, headers = headers, timeout = 10)\n",
    "    result_page = BeautifulSoup(response.content, 'lxml')\n",
    "    try:\n",
    "        product_name = result_page.find('span',class_='css-r4ddnb ').get_text().strip()\n",
    "    except:\n",
    "        product_name = np.nan\n",
    "    try:\n",
    "        brand_name = result_page.find('img', attrs = {'data-comp': 'BrandLogo Image Box'}).get('alt').strip().upper()\n",
    "    except:\n",
    "        brand_name = np.nan\n",
    "    try:\n",
    "        if len(list(result_page.find('div', attrs = {'data-comp': 'Price Box'}).children)) > 1:\n",
    "            price = float(result_page.find('div', attrs = {'data-comp': 'Price Box'}).get_text()[:6].replace('$', ''))\n",
    "        else:\n",
    "            price = float(result_page.find('div', attrs = {'data-comp': 'Price Box'}).get_text().strip().replace('$', ''))\n",
    "    except:\n",
    "        price = np.nan\n",
    "    try:\n",
    "        love_count = int(result_page.find('span', attrs = {'data-at': 'product_love_count'}).get_text().strip())\n",
    "    except:\n",
    "        love_count = np.nan\n",
    "    colors = dict()\n",
    "    if result_page.find('div', class_ = \"css-gth5yg \"):\n",
    "        for tag in result_page.find('div', class_ = \"css-gth5yg \"):\n",
    "            if tag.find('img'):\n",
    "                color = tag.find('div', attrs = {'data-at': 'selected_swatch'})['aria-label']\n",
    "                img_src = ''.join([\"https://www.sephora.com\", tag.find('img')['src']])\n",
    "                response = requests.get(img_src, headers = headers, timeout = 5)\n",
    "                im = Image.open(BytesIO(response.content))\n",
    "                pix = im.load()\n",
    "                width = im.size[0]\n",
    "                height = im.size[1]\n",
    "                r, g, b = pix[width / 2, height / 2]\n",
    "                colors[color] = (r, g, b)\n",
    "                time.sleep(0.5)\n",
    "\n",
    "    lipstick['product_name'] = product_name\n",
    "    lipstick['brand_name'] = brand_name\n",
    "    lipstick['price'] = price\n",
    "    lipstick['love_count'] = love_count\n",
    "    lipstick['colors'] = colors\n",
    "    lipstick['link'] = lipstick_link\n",
    "    return lipstick"
   ]
  },
  {
   "cell_type": "code",
   "execution_count": 25,
   "metadata": {
    "scrolled": true
   },
   "outputs": [],
   "source": [
    "product_name_l = []\n",
    "brand_name_l = []\n",
    "price_l = []\n",
    "love_count_l = []\n",
    "color_l = []\n",
    "rgb_l = []\n",
    "link_l = []\n",
    "for url in lipstick_links:\n",
    "    try:\n",
    "        lipstick_info = get_lipstick(url)\n",
    "        count = len(lipstick_info['colors'])\n",
    "        product_name_l.extend([lipstick_info['product_name']] * count)\n",
    "        brand_name_l.extend([lipstick_info['brand_name']] * count)\n",
    "        price_l.extend([lipstick_info['price']] * count)\n",
    "        love_count_l.extend([lipstick_info['love_count']] * count)\n",
    "        color_l.extend(list(lipstick_info['colors'].keys()))\n",
    "        rgb_l.extend(list(lipstick_info['colors'].values()))\n",
    "        link_l.extend([url] * count)\n",
    "    except:\n",
    "        print(url)\n",
    "        continue\n",
    "        \n",
    "lipstick_df = pd.DataFrame({'product_name': product_name_l,\n",
    "                           'brand_name': brand_name_l,\n",
    "                           'price': price_l,\n",
    "                           'love_count': love_count_l,\n",
    "                           'color': color_l,\n",
    "                           'rgb': rgb_l,\n",
    "                           'link': link_l})\n",
    "lipstick_df.to_csv(\"lipstick.csv\")"
   ]
  }
 ],
 "metadata": {
  "kernelspec": {
   "display_name": "Python 3",
   "language": "python",
   "name": "python3"
  },
  "language_info": {
   "codemirror_mode": {
    "name": "ipython",
    "version": 3
   },
   "file_extension": ".py",
   "mimetype": "text/x-python",
   "name": "python",
   "nbconvert_exporter": "python",
   "pygments_lexer": "ipython3",
   "version": "3.6.6"
  },
  "varInspector": {
   "cols": {
    "lenName": 16,
    "lenType": 16,
    "lenVar": 40
   },
   "kernels_config": {
    "python": {
     "delete_cmd_postfix": "",
     "delete_cmd_prefix": "del ",
     "library": "var_list.py",
     "varRefreshCmd": "print(var_dic_list())"
    },
    "r": {
     "delete_cmd_postfix": ") ",
     "delete_cmd_prefix": "rm(",
     "library": "var_list.r",
     "varRefreshCmd": "cat(var_dic_list()) "
    }
   },
   "types_to_exclude": [
    "module",
    "function",
    "builtin_function_or_method",
    "instance",
    "_Feature"
   ],
   "window_display": false
  }
 },
 "nbformat": 4,
 "nbformat_minor": 2
}
