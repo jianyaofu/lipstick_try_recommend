{
 "cells": [
  {
   "cell_type": "code",
   "execution_count": 25,
   "metadata": {},
   "outputs": [],
   "source": [
    "from selenium import webdriver\n",
    "from selenium.webdriver.common.by import By\n",
    "import time"
   ]
  },
  {
   "cell_type": "code",
   "execution_count": 4,
   "metadata": {},
   "outputs": [
    {
     "name": "stdout",
     "output_type": "stream",
     "text": [
      "Collecting selenium\n",
      "\u001b[?25l  Downloading https://files.pythonhosted.org/packages/80/d6/4294f0b4bce4de0abf13e17190289f9d0613b0a44e5dd6a7f5ca98459853/selenium-3.141.0-py2.py3-none-any.whl (904kB)\n",
      "\u001b[K    100% |████████████████████████████████| 911kB 5.1MB/s ta 0:00:011\n",
      "\u001b[?25hRequirement already satisfied: urllib3 in /Users/wangzheng/anaconda3/lib/python3.6/site-packages (from selenium) (1.22)\n",
      "Installing collected packages: selenium\n",
      "Successfully installed selenium-3.141.0\n"
     ]
    }
   ],
   "source": [
    "!pip install selenium"
   ]
  },
  {
   "cell_type": "code",
   "execution_count": 26,
   "metadata": {},
   "outputs": [],
   "source": [
    "def get_lipstick_reviews(link):\n",
    "    lipstick_reviews = dict()\n",
    "    options = webdriver.ChromeOptions()\n",
    "    prefs = {\n",
    "        'profile.default_content_setting_values' : {\n",
    "            'images' : 2\n",
    "        }\n",
    "    }\n",
    "    options.add_experimental_option('prefs',prefs)\n",
    "    driver = webdriver.Chrome(options = options)\n",
    "    driver.get(link)\n",
    "    driver.find_element_by_class_name(\"css-1n39fc0 \").click()\n",
    "    js=\"var q=document.documentElement.scrollTop=1000\" \n",
    "    driver.execute_script(js)\n",
    "    time.sleep(1)\n",
    "    try:\n",
    "        rating = float(driver.find_element_by_class_name(\"css-ffj77u \").text.split('/')[0].strip())\n",
    "    except:\n",
    "        rating = None\n",
    "    try:\n",
    "        reco_percent = int(driver.find_element_by_class_name(\"css-vrylf1 \").text.replace('%','').strip())\n",
    "    except:\n",
    "        reco_percent = None\n",
    "    reviews = list()\n",
    "    while True:\n",
    "        try:\n",
    "            driver.find_element_by_class_name(\"css-2wz498 \").click()\n",
    "        except:\n",
    "            break\n",
    "    while True:\n",
    "        try:\n",
    "            if driver.find_element_by_xpath(\"//div[@data-comp = 'Review']\"):\n",
    "                for elem in driver.find_elements(By.XPATH, \"//div[@data-comp = 'Review']\"):\n",
    "                    try:\n",
    "                        user_info = elem.find_element_by_class_name(\"css-1pgaz2s \").text.strip()\n",
    "                    except:\n",
    "                        user_info = None\n",
    "                    user_rating = int(elem.find_element_by_class_name(\"css-17ol29l \").get_attribute('style').split(':')[1].replace('%;','').strip()) / 20\n",
    "                    try:\n",
    "                        user_color = elem.find_element_by_class_name(\"css-7b8onn \").text.split(':')[1].strip()\n",
    "                    except:\n",
    "                        user_color = None\n",
    "                    try:\n",
    "                        elem.find_element_by_class_name(\"css-10o012f \").click()\n",
    "                        user_review = elem.find_element_by_class_name(\"css-eq4i08 \").text.strip()\n",
    "                    except:\n",
    "                        try:\n",
    "                            user_review = elem.find_element_by_class_name(\"css-eq4i08 \").text.strip()\n",
    "                        except:\n",
    "                            user_review = None\n",
    "                    reviews.append({'user_info': user_info,\n",
    "                                    'user_rating': user_rating,\n",
    "                                    'user_color': user_color,\n",
    "                                    'user_review': user_review})\n",
    "                break\n",
    "            else:\n",
    "                break\n",
    "        except:\n",
    "            break\n",
    "    driver.close()\n",
    "    lipstick_reviews['rating'] = rating\n",
    "    lipstick_reviews['reco_percent'] = reco_percent\n",
    "    lipstick_reviews['reviews'] = reviews\n",
    "    return lipstick_reviews"
   ]
  },
  {
   "cell_type": "code",
   "execution_count": 16,
   "metadata": {},
   "outputs": [
    {
     "data": {
      "text/plain": [
       "'https://www.sephora.com/search?keyword=Yves Saint Laurent Rouge Pur Couture The Slim Matte Lipstick 1 Rouge Extravagant bright red'"
      ]
     },
     "execution_count": 16,
     "metadata": {},
     "output_type": "execute_result"
    }
   ],
   "source": [
    "product_name = 'Rouge Pur Couture The Slim Matte Lipstick'\n",
    "brand_name = 'Yves Saint Laurent'\n",
    "color = '1 Rouge Extravagant bright red'\n",
    "# link = search_link(brand_name, product_name, color)\n",
    "# link"
   ]
  },
  {
   "cell_type": "code",
   "execution_count": 17,
   "metadata": {},
   "outputs": [],
   "source": [
    "# outcome = get_lipstick_reviews(link)"
   ]
  },
  {
   "cell_type": "code",
   "execution_count": 27,
   "metadata": {},
   "outputs": [],
   "source": [
    "def get_text(): \n",
    "    def search_link(brand_name, product_name, color = ''):\n",
    "        base_url = 'https://www.sephora.com/search?keyword='\n",
    "        search_url = brand_name + ' ' + product_name + ' ' + color\n",
    "        url = base_url + search_url\n",
    "        return url\n",
    "    link = search_link(brand_name, product_name, color)\n",
    "    \n",
    "    output = get_lipstick_reviews(link)\n",
    "    text = ''\n",
    "    listdic_= output['reviews']\n",
    "    for i in range(len(listdic_)):\n",
    "        str_= listdic_[i]['user_review']\n",
    "        text += ''.join(str_)\n",
    "    return text\n",
    "# text = get_text()"
   ]
  },
  {
   "cell_type": "code",
   "execution_count": 28,
   "metadata": {},
   "outputs": [],
   "source": [
    "text = get_text()"
   ]
  },
  {
   "cell_type": "code",
   "execution_count": 30,
   "metadata": {},
   "outputs": [],
   "source": [
    "def get_pos_neg_words():\n",
    "    def get_words(url):\n",
    "        import requests\n",
    "        words = requests.get(url).content.decode('latin-1')\n",
    "        word_list = words.split('\\n')\n",
    "        index = 0\n",
    "        while index < len(word_list):\n",
    "            word = word_list[index]\n",
    "            if ';' in word or not word:\n",
    "                word_list.pop(index) #pop删掉的是第几位的数字 pop(index)\n",
    "            else:\n",
    "                index+=1\n",
    "        return word_list\n",
    "\n",
    "    #Get lists of positive and negative words\n",
    "    p_url = 'http://ptrckprry.com/course/ssd/data/positive-words.txt'\n",
    "    n_url = 'http://ptrckprry.com/course/ssd/data/negative-words.txt'\n",
    "    positive_words = get_words(p_url)\n",
    "    negative_words = get_words(n_url)\n",
    "    return positive_words,negative_words\n",
    "\n",
    "positive_words,negative_words = get_pos_neg_words()"
   ]
  },
  {
   "cell_type": "code",
   "execution_count": 31,
   "metadata": {},
   "outputs": [],
   "source": [
    "def do_pos_neg_sentiment_analysis(text,debug=False):\n",
    "    positive_words,negative_words = get_pos_neg_words()\n",
    "    from nltk import word_tokenize\n",
    "    results = list()\n",
    "    cpos = cneg = lpos = lneg = 0\n",
    "    for word in word_tokenize(text):\n",
    "        if word in positive_words:\n",
    "            if debug:\n",
    "                print(\"Positive\",word)\n",
    "            cpos+=1\n",
    "        if word in negative_words:\n",
    "            if debug:\n",
    "                print(\"Negative\",word)\n",
    "            cneg+=1\n",
    "    results.append((product_name, cpos/len(word_tokenize(text)),cneg/len(word_tokenize(text))))\n",
    "    return results"
   ]
  },
  {
   "cell_type": "code",
   "execution_count": 32,
   "metadata": {},
   "outputs": [
    {
     "data": {
      "text/plain": [
       "[('Rouge Pur Couture The Slim Matte Lipstick',\n",
       "  0.06615093148089675,\n",
       "  0.028102305020524156)]"
      ]
     },
     "execution_count": 32,
     "metadata": {},
     "output_type": "execute_result"
    }
   ],
   "source": [
    "# text= get_text()\n",
    "# do_pos_neg_sentiment_analysis(text,debug=False)\n"
   ]
  },
  {
   "cell_type": "code",
   "execution_count": 33,
   "metadata": {},
   "outputs": [],
   "source": [
    "# Text- Summerization\n",
    "def build_summary(text):\n",
    "    from nltk.tokenize import word_tokenize\n",
    "    from nltk.tokenize import sent_tokenize\n",
    "    from nltk.probability import FreqDist\n",
    "    from nltk.corpus import stopwords\n",
    "    from collections import OrderedDict\n",
    "    summary_sentences = []\n",
    "    candidate_sentences = {}\n",
    "    candidate_sentence_counts = {}\n",
    "    \n",
    "    words = word_tokenize(text)\n",
    "    \n",
    "    lowercase_words = [word.lower() for word in words\n",
    "                      if word not in stopwords.words() and word.isalpha()]\n",
    "    \n",
    "    word_frequencies = FreqDist(lowercase_words)\n",
    "    most_frequent_words = FreqDist(lowercase_words).most_common(20)\n",
    "    sentences = sent_tokenize(text)\n",
    "    for sentence in sentences:\n",
    "        candidate_sentences[sentence] = sentence.lower()\n",
    "    for long, short in candidate_sentences.items():\n",
    "        count = 0\n",
    "        for freq_word, frequency_score in most_frequent_words:\n",
    "            if freq_word in short:\n",
    "                count += frequency_score\n",
    "                candidate_sentence_counts[long] = count   \n",
    "    sorted_sentences = OrderedDict(sorted(\n",
    "                        candidate_sentence_counts.items(),\n",
    "                        key = lambda x: x[1],\n",
    "                        reverse = True)[:2])\n",
    "    return sorted_sentences   "
   ]
  },
  {
   "cell_type": "code",
   "execution_count": 34,
   "metadata": {},
   "outputs": [
    {
     "name": "stdout",
     "output_type": "stream",
     "text": [
      "Had to buy from YSL because color was sold out from SephoraLiterally Great , goes on greatamazing and I love it but I have not tried it yetI loved the color and the nifty pointed tip for lining but the formula wasn’t as long lasting as I had hoped.not worth the price, kind of patchy, but like the packaging and shape.I think that this lipstick is definitely long lasting so if that’s what you’re looking for this will be great.\n",
      "I would definitely recommend it.I love this lipstick, the color is amazing, I love the shape and slimness of it.\n"
     ]
    }
   ],
   "source": [
    "# build_naive_summary(text)\n",
    "summary = '\\n'.join(build_summary(text))\n",
    "print(summary)"
   ]
  },
  {
   "cell_type": "code",
   "execution_count": null,
   "metadata": {},
   "outputs": [],
   "source": []
  }
 ],
 "metadata": {
  "kernelspec": {
   "display_name": "Python 3",
   "language": "python",
   "name": "python3"
  },
  "language_info": {
   "codemirror_mode": {
    "name": "ipython",
    "version": 3
   },
   "file_extension": ".py",
   "mimetype": "text/x-python",
   "name": "python",
   "nbconvert_exporter": "python",
   "pygments_lexer": "ipython3",
   "version": "3.6.5"
  },
  "varInspector": {
   "cols": {
    "lenName": 16,
    "lenType": 16,
    "lenVar": 40
   },
   "kernels_config": {
    "python": {
     "delete_cmd_postfix": "",
     "delete_cmd_prefix": "del ",
     "library": "var_list.py",
     "varRefreshCmd": "print(var_dic_list())"
    },
    "r": {
     "delete_cmd_postfix": ") ",
     "delete_cmd_prefix": "rm(",
     "library": "var_list.r",
     "varRefreshCmd": "cat(var_dic_list()) "
    }
   },
   "types_to_exclude": [
    "module",
    "function",
    "builtin_function_or_method",
    "instance",
    "_Feature"
   ],
   "window_display": false
  }
 },
 "nbformat": 4,
 "nbformat_minor": 2
}
