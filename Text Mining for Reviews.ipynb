{
 "cells": [
  {
   "cell_type": "code",
   "execution_count": 25,
   "metadata": {},
   "outputs": [],
   "source": [
    "from selenium import webdriver\n",
    "from selenium.webdriver.common.by import By\n",
    "import time"
   ]
  },
  {
   "cell_type": "code",
   "execution_count": 4,
   "metadata": {},
   "outputs": [
    {
     "name": "stdout",
     "output_type": "stream",
     "text": [
      "Collecting selenium\n",
      "\u001b[?25l  Downloading https://files.pythonhosted.org/packages/80/d6/4294f0b4bce4de0abf13e17190289f9d0613b0a44e5dd6a7f5ca98459853/selenium-3.141.0-py2.py3-none-any.whl (904kB)\n",
      "\u001b[K    100% |████████████████████████████████| 911kB 5.1MB/s ta 0:00:011\n",
      "\u001b[?25hRequirement already satisfied: urllib3 in /Users/wangzheng/anaconda3/lib/python3.6/site-packages (from selenium) (1.22)\n",
      "Installing collected packages: selenium\n",
      "Successfully installed selenium-3.141.0\n"
     ]
    }
   ],
   "source": [
    "!pip install selenium"
   ]
  },
  {
   "cell_type": "code",
   "execution_count": 26,
   "metadata": {},
   "outputs": [],
   "source": [
    "def get_lipstick_reviews(link):\n",
    "    lipstick_reviews = dict()\n",
    "    options = webdriver.ChromeOptions()\n",
    "    prefs = {\n",
    "        'profile.default_content_setting_values' : {\n",
    "            'images' : 2\n",
    "        }\n",
    "    }\n",
    "    options.add_experimental_option('prefs',prefs)\n",
    "    driver = webdriver.Chrome(options = options)\n",
    "    driver.get(link)\n",
    "    driver.find_element_by_class_name(\"css-1n39fc0 \").click()\n",
    "    js=\"var q=document.documentElement.scrollTop=1000\" \n",
    "    driver.execute_script(js)\n",
    "    time.sleep(1)\n",
    "    try:\n",
    "        rating = float(driver.find_element_by_class_name(\"css-ffj77u \").text.split('/')[0].strip())\n",
    "    except:\n",
    "        rating = None\n",
    "    try:\n",
    "        reco_percent = int(driver.find_element_by_class_name(\"css-vrylf1 \").text.replace('%','').strip())\n",
    "    except:\n",
    "        reco_percent = None\n",
    "    reviews = list()\n",
    "    while True:\n",
    "        try:\n",
    "            driver.find_element_by_class_name(\"css-2wz498 \").click()\n",
    "        except:\n",
    "            break\n",
    "    while True:\n",
    "        try:\n",
    "            if driver.find_element_by_xpath(\"//div[@data-comp = 'Review']\"):\n",
    "                for elem in driver.find_elements(By.XPATH, \"//div[@data-comp = 'Review']\"):\n",
    "                    try:\n",
    "                        user_info = elem.find_element_by_class_name(\"css-1pgaz2s \").text.strip()\n",
    "                    except:\n",
    "                        user_info = None\n",
    "                    user_rating = int(elem.find_element_by_class_name(\"css-17ol29l \").get_attribute('style').split(':')[1].replace('%;','').strip()) / 20\n",
    "                    try:\n",
    "                        user_color = elem.find_element_by_class_name(\"css-7b8onn \").text.split(':')[1].strip()\n",
    "                    except:\n",
    "                        user_color = None\n",
    "                    try:\n",
    "                        elem.find_element_by_class_name(\"css-10o012f \").click()\n",
    "                        user_review = elem.find_element_by_class_name(\"css-eq4i08 \").text.strip()\n",
    "                    except:\n",
    "                        try:\n",
    "                            user_review = elem.find_element_by_class_name(\"css-eq4i08 \").text.strip()\n",
    "                        except:\n",
    "                            user_review = None\n",
    "                    reviews.append({'user_info': user_info,\n",
    "                                    'user_rating': user_rating,\n",
    "                                    'user_color': user_color,\n",
    "                                    'user_review': user_review})\n",
    "                break\n",
    "            else:\n",
    "                break\n",
    "        except:\n",
    "            break\n",
    "    driver.close()\n",
    "    lipstick_reviews['rating'] = rating\n",
    "    lipstick_reviews['reco_percent'] = reco_percent\n",
    "    lipstick_reviews['reviews'] = reviews\n",
    "    return lipstick_reviews"
   ]
  },
  {
   "cell_type": "code",
   "execution_count": 5,
   "metadata": {},
   "outputs": [],
   "source": [
    "output = get_lipstick_reviews('https://www.sephora.com/product/la-baton-rouge-lipstick-P425734?icid2=products%20grid:p425734:product')"
   ]
  },
  {
   "cell_type": "code",
   "execution_count": 104,
   "metadata": {},
   "outputs": [
    {
     "data": {
      "text/plain": [
       "{'rating': 2.8,\n",
       " 'reco_percent': None,\n",
       " 'reviews': [{'user_info': 'Eye Color Hazel\\nHair color Brunette\\nSkin Tone Fair\\nSkin Type Dry',\n",
       "   'user_rating': 3.0,\n",
       "   'user_color': 'Galocher',\n",
       "   'user_review': 'Very pretty red, great idea to have both products in one want but I found this formula to be very drying to I returned it.'},\n",
       "  {'user_info': 'Age 25-34\\nEye Color Hazel\\nHair color Black\\nSkin Tone Light\\nSkin Type Combination',\n",
       "   'user_rating': 2.0,\n",
       "   'user_color': 'Margaux',\n",
       "   'user_review': \"It's a really neat idea for a product and I wanted to love it, but it was very patchy and drying. I returned it.\"},\n",
       "  {'user_info': 'Eye Color Green\\nHair color Black\\nSkin Tone Light\\nSkin Type Dry',\n",
       "   'user_rating': 5.0,\n",
       "   'user_color': 'Margaux',\n",
       "   'user_review': 'What a wonderful lipstick and concept this is! The burgundy color is truly saturated yet applies so easily and lets your own lip show beautifully vs just sitting on it. It melts into the lip and the powder just enhances it too. This color is just enchanting, I’m crazy about it! Can’t wait to buy the other blue red! It’s the quality and innovation I adore from TS! Love! Get it!!'},\n",
       "  {'user_info': 'Eye Color Hazel\\nHair color Black\\nSkin Tone Medium\\nSkin Type Normal',\n",
       "   'user_rating': 1.0,\n",
       "   'user_color': 'Diabolique',\n",
       "   'user_review': \"The lipstick portion of this is the size of a lipliner and is somewhat dry. The powder portion has hardly nothing in it and doesn't change the look at all. The price point is so high for something this poorly done.\"}]}"
      ]
     },
     "execution_count": 104,
     "metadata": {},
     "output_type": "execute_result"
    }
   ],
   "source": [
    "output"
   ]
  },
  {
   "cell_type": "code",
   "execution_count": 103,
   "metadata": {},
   "outputs": [
    {
     "data": {
      "text/plain": [
       "['Eye Color Hazel', 'Hair color Brunette', 'Skin Tone Fair', 'Skin Type Dry']"
      ]
     },
     "execution_count": 103,
     "metadata": {},
     "output_type": "execute_result"
    }
   ],
   "source": [
    "output['reviews'][0]['user_info'].strip().split('\\n')"
   ]
  },
  {
   "cell_type": "code",
   "execution_count": 15,
   "metadata": {},
   "outputs": [],
   "source": [
    "def search_link(brand_name, product_name, color = ''):\n",
    "    base_url = 'https://www.sephora.com/search?keyword='\n",
    "    search_url = brand_name + ' ' + product_name + ' ' + color\n",
    "    url = base_url + search_url\n",
    "    return url"
   ]
  },
  {
   "cell_type": "code",
   "execution_count": 16,
   "metadata": {},
   "outputs": [
    {
     "data": {
      "text/plain": [
       "'https://www.sephora.com/search?keyword=Yves Saint Laurent Rouge Pur Couture The Slim Matte Lipstick 1 Rouge Extravagant bright red'"
      ]
     },
     "execution_count": 16,
     "metadata": {},
     "output_type": "execute_result"
    }
   ],
   "source": [
    "product_name = 'Rouge Pur Couture The Slim Matte Lipstick'\n",
    "brand_name = 'Yves Saint Laurent'\n",
    "color = '1 Rouge Extravagant bright red'\n",
    "link = search_link(brand_name, product_name, color)\n",
    "link"
   ]
  },
  {
   "cell_type": "code",
   "execution_count": 17,
   "metadata": {},
   "outputs": [],
   "source": [
    "# outcome = get_lipstick_reviews(link)"
   ]
  },
  {
   "cell_type": "code",
   "execution_count": 27,
   "metadata": {},
   "outputs": [],
   "source": [
    "def get_text(): \n",
    "    def search_link(brand_name, product_name, color = ''):\n",
    "        base_url = 'https://www.sephora.com/search?keyword='\n",
    "        search_url = brand_name + ' ' + product_name + ' ' + color\n",
    "        url = base_url + search_url\n",
    "        return url\n",
    "    link = search_link(brand_name, product_name, color)\n",
    "    \n",
    "    output = get_lipstick_reviews(link)\n",
    "    text = ''\n",
    "    listdic_= output['reviews']\n",
    "    for i in range(len(listdic_)):\n",
    "        str_= listdic_[i]['user_review']\n",
    "        text += ''.join(str_)\n",
    "    return text\n",
    "# text = get_text()"
   ]
  },
  {
   "cell_type": "code",
   "execution_count": 28,
   "metadata": {},
   "outputs": [],
   "source": [
    "text = get_text()"
   ]
  },
  {
   "cell_type": "code",
   "execution_count": 29,
   "metadata": {},
   "outputs": [
    {
     "data": {
      "text/plain": [
       "\"The diamond shape definitely threw me for a curve while applying. I would say there is a small learning curve to using it. The color was very rich and velvety that didnt leave my lips sticky. Theres was quite a bit of transfer, over the course of the day I had to apply multiple times. For this price range I expect alot more but for the comfortable texture and feeling it's a fair trade. Most of my longer lasting lipsticks dont feel as comfortable.I received this product for free or complimentary for testing purposes.I’m obsessed with these lipsticks! The formula was like nothing I’ve tried before, such a great matte. The shape is tricky but practice definitely helps.Wow! gorgeous, doesn't bleed, doesn't dry my lips - I'm in love!Beautiful color, awkward shape, messy and dry application. The formula is average at best. Expected from YSL.I liked the pigmentation of this lipstick! The colors are soooo beautiful and bright I love that! I just don’t like about it that it do transfer and that’s a big problem with a color like this one @influensterThe color is beautiful, it’s just the shape of the lipstick isn’t really working out of the lip line. It’s hard to keep in control of the details. And the amount of the product isn’t as much as other ysl lipsticks. Is priceyI LOVE this color - a beautiful deep berry that’s perfect for work or going out. The color is somewhat long lasting, and moisturizing, but application is slightly harder given the interesting shape of the product. I’ve especially found it difficult to apply at the corners of my mouth - maybe it’s just me! Still, I received several compliments on my first day of wear - the color and formula are really top notch.I really love this lipstick! Even though it's matte, not dry at all! And it keeps on my lips all day long. Another reason I love it is it's not sticky. Yeah, it will leave lip print on the cup, but just a little bit and won't affect the color on my lips. And It can also cover my own lip color perfectly and show its own color. As for the perfume, I saw some people don't like it, but for me, I like the smell. It's very similar with the ysl lip gloss.Pros: Goes on smoothly, comfortable to wear for hours; not drying; beautiful pigment; long lasting; fades to attractive berry stain Cons: strong scent (kind of fruity?); somewhat pricey, especially since the packaging is not as heavy duty as other YSL products; not sure the diamond shape really improves application--a little awkward to apply Overall, the pros really outweigh the cons for me, and I'd recommend this--despite some missteps, it's a quality matte lip color.The square shape, while visually appealing, is hard to use. The formula is also very patchyDeep color and long lastingLove this color, the deep red and matte combination is perfect for an elegant look with a little black dress. The formula is rich and the packaging is everything you could want and more. It is worth every penny and makes you feel like a million bucks.I was delighted with this new lipstick, despite being matte leaves my lips very hydrated, a universal red. The pigmentation is super and it's last all day long. Very comfortable to wear I highly recommend it! I received this product for free or complimentary for testing purposes from influenster.The square shape is very difficult to work with but the formulation is so pigmented and long-lasting! There's something very unique about this shade as well. Buy it for the color but be prepared to use a lip brush to apply.Love the red coral shade 23! The color is gorgeous and it goes perfect with my skin tone, it’s a matte finish but won’t dry out lips! Not sticky and comfortable formula, it is much more hydrating than other matte lipstick it keeps my lip feeling soft!This is such a unique lipstick. I love the finish and the feel. Feels like I’m not wearing anything and not drying. The packaging is amazing. I love the look. Way to go YSL.Well... Let’s start with the positives, it feels nice on the lips, creamy not drying like many matte brands. I liked the square shape idea although I wasn’t able to get my Cupid’s bow very neatly lined as the model online even while carefully following the instructions. It just felt awkward and after a couple uses, the sharp square sides don’t line well anymore so I just don’t see the great benefit. I got ambiguous beige and I do like the color. It does last fairly long but is a bit pricey so probably won’t buy more than a couple of these. It’s pretty good but if you are sensitive to taste or smell, this does product does have a taste and a smell. It’s not unpleasant but I prefer none in lipsticks. Just thought that might be helpful for those with allergies or sensitivity.This product is one of the best lipsticks I have ever tried! It goes on so smoothly and isn’t drying! The pigment is so strong and it also smells super good! I think the only down fall is it’s not smudge proof, so you definitely need to be careful when wearing it or carry a mirror around to check up on it throughout the night!Hellllooooo pigment. Gorgeous lipstick. I like the streamlined shape—people complain about the applicator but even bullet lipsticks get softened and lose their shape the color is nice and comfortable.Perfect new lipstick for fall! Color is gorgeous and this seriously lasts all day and isn't drying at all. Ate two meals and drank coffee all day and color didn't fade. Only had to touch up a little bit once. Will be buying more shades!I’m giving this Matte Lipstick because it’s Saint Laurent and with that being said this is a great quality it doesn’t dry my lips or chapped them! But the sade itself is very deceiving i’m getting more of a coral pink hue instead of a beige or nude. I know don’t is it just me or did any one else have this issue with shade number 11So, first off let me say that I absolutely LOVE the packaging. It’s so sleek and looks expensive. Love that. But when it comes to the applicator (or the square bullet as it’s actually called), it’s just weird. I’m sure that I can get used to it over time, but with my first application, I found myself wanting to just use the entire lipstick rather than using just the sides or the points of the lipstick. The color — SO PIGMENTED. Honestly, I think I found my new go to fall/holiday lipstick. It’s very bold, POC friendly, and the formula feels nice on the lips. Does not pass the kiss test. Lately, the lipstick also smells good — not like chemicals like other lipsticks and nothing too overbearing like some other brands — it just smells fresh. Super excited to wear this more!I’m not sure what the issue is with this product. I have no problem with the applicator. It’s easy enough. I actually like it because it’s small, thin, and travels well. It’s easy to apply for me. I don’t find it harder than any other lip product. As for color and pigment I can’t find better. I’m incredibly picky when it comes to my makeup especially matte lip products. I have semi oily skin that nothing stays on. Even bandages won’t stick for long. I have found this to be creamy with a matte but not dry finish. Because of it being creamy the texture is a bit tacky but it is very minimal. I would say less tacky than almost any other long wear lip products. For me I only have to reapply maybe 2-3 times a day which is the holy grail for me. I host 4-5 meetings a day, talking almost non stop, handle phone calls, and of course eat. It stays even with some transfer. 4 hours later I still have good color with wear out in the middle. Best of all it is non drying. Plus I have no clue what the sent is people are complaining about. What ever is there doesn’t bother me. The price is high but you get what you pay for. There is a reason this brand is the price it is. Not all expensive products are worth it but this is. I tried other colors at the store and will be going back for more. I’m hoping they bring out more colors as I’m still on the lookout for the perfect nude for my skin tone. I’m not in love with YSL brand as I recently came across it. I am typically a Lancôme lover. But their matte lip options need improvement. Every drug store brand I’ve tried is horrible and sits in the closet. I’ve tried products from almost all brands at Sephora and department stores and so far the two different matte lip products from YSL are my constant go too.Firstly, yes the bullet head may throw people off especially when it comes to the application of the peculiar shaped rouge but IF you follow the instructions and most of all watch the video they have added, it’s pretty much ok to apply it or just simply go ahead and use a lip brush if you aren’t still comfortable, Now to the colors, all I can say is they are beautiful! I I got 1, 21, 18 and 11 and each of them have their own uniqueness. Since I am medium skin tone, to me these suited and went along great with my skin tone. 1, 21 and 18 would look amazing during fall with a nice cat eye while 11 will look awesome with a nice Smokey eye (which I just recently did with Natasha Denona sunset palette) and this color looked perfect with it. So those who are contemplating whether to buy them or not especially based on the mixed reviews, my suggestion would be to try them in store first and see how comfortable you are in applying them. If yes, go for it and if not maybe they aren’t just meant for everyone :)Ok. I think we can all agree this it’s definitely overpriced for a lipstick but what else do you expect from a high end brand. Other then the ridiculous price the formula is greattt! It as a matte look but doesn’t feel like the average drying matte formula. There’s a bit of a silk feel to it. The scent is fruity. Smells like grape medicine lol and the diamond shape applicator really isn’t the most convenient but apply with a lip liner and primer and you’re all set!! Overall I loved the lipstick and definitely plan on buying another color soon. Just wish it wasn’t so expensive.Nice product. It’s matte ...but NOT drying. I have dry lips and it works fine for me when I wear a lip balm underneath. I bought it in Rare Rose #24...it’s not a pale nude it’s more of a light pink color Has a hint of a scent but it’s not very strong. Love the packaging!It’s an ok lipstick. It’s a nice soft matte that doesn’t feel dry, just almost powdery in finish. The square shape does make it a bit more difficult to apply. My main gripe is the SMELL of this lipstick. It smells like an ACTUAL perfum, which is unsettling. I’ve been getting this tiny micro texture bumps on my lips since trying it on, and I wonder if the fragrance aggravated my lips. Colors shown online are not a true representation of this product. There’s also an exceptionally small amount of product.Really enjoyed the formula of this matte lipstick. Creamy without being dry and very matte. Not giving it a complete 5 stars due to the shape of the lipstick - not an easy application. I received this product for free for testing purposes.This is not Matte! Transfers when you eat, drink, talk, ect. nice color but awful formula. I returned this.I love love love this lipstick. Love that the pigment is intense and that the longevity is like a stain. Feels really soft of my lips without looking dry. For a matte lipstick that’s amazing. Very high quality. I would definitely recommend it.I love this lipstick, the color is amazing, I love the shape and slimness of it. This is my first YSL lipstick and I’m not use to the heavy perfume smell any taste! I DO NOT want to return these, that’s how much I love them. However If I cannot get past the heavy perfume, then I will have too. If I can I will definitely be buying more colors!!!Really love the color! I would call it a peachy nude. So flattering on my yellow-toned skin! The formula is def not as outstanding as YSL's other lines (in particular the RVP). Not really nearly comparable to the PMG's matte trance. The application process was not so great: your lips have to be in an extraordinary condition for this to glide on smoothly without any patchiness. It didn't leave my lips super uncomfortable and dry, however. That's one good thing, I guess. The shape of the lipstick also makes it hard to apply. I still love the package though! Final thought: if you do not have a specific color you love from this line, go for PMG. I only bought this because I love this shade and the packaging. Otherwise, I would have returned this.it's an okay product but I think you can find a map product that is not as expensive as this or is expensive is this but is easier to use this square shape is some weird junkI wanted to like this so much but unfortunately, I returned it the day after I bought it. The colour was gorgeous. That's the only thing I liked about it. When I first applied it to my cupid's bow, one of the corners broke off. The application was very dry and I didn't like the feel of it on my lips. Much too matte for me. Sad because I love most YSL makeup.Beautiful color, nice texture but it’s hard to apply. It’s really pricey. I hope it’s easier to apply on my lips. I feel it could break while Im applying the product. I love the finished feeling, matte and moisturizer. I was planning to buy #18 but it sold out so I got #5 instead. I love this color, it looks like a slightly brighter version of #18. It smells so great too.I received this product For testing purposes and was super excited to try it out! It was in a beautiful packaging and the lipstick it’s self looks gorgeous! It was super easy to apply and the square like applicant made it easy to line my lips. Downfall with this product was that it smeared super easy all over my face. Also it was super dry (even for a matte) and I had to apply chapstick over it. It also didn’t even last on for over an hour.I received this product as a complimentary gift from Influenster! The color is VERY red but makes you feel like a new woman with it. It will stain your lips or and accidental marks around you lips so be careful! Lightweight which I love. Little difficult to use with the square shape, it’ll take a few times to get it right!I loved the quality of this lipstick and the shape because it made it super easy to apply. I have the bright red color and although I will not wear it with much it is still a great shade to have when you do need it . I typically would not spend this much on the lipstick and don’t think I will in the future . I received this product free for testing purposes Thanks to influencsterI was surprise that I read a lot of good reviews about this lipstick. I did not like it, it is very thick and dry I do like the color but I’m not that happy with the formula.Color was not as pictured very disappointed I also bought #11 same problem . Packaging felt odd for application and cheap . I love YSL lipstick normally everything about this lipstick was no luxurious. Returning both.The shape is awful! Impossible to get a decent applicationThis lipstick is extremely difficult to apply and moreover horrible texture with a dirty sheen instead of matte. The square tip will have you work really hard not to smudge or go out of the lips periphery unless you have all the time in the world to apply it with brush just pretending it’s matte!Like this color but wish it was darker. Love the quality, the square shaped bullet and the elegance of the case which is simply beautiful. Had to buy from YSL because color was sold out from SephoraLiterally Great , goes on greatamazing and I love it but I have not tried it yetI loved the color and the nifty pointed tip for lining but the formula wasn’t as long lasting as I had hoped.not worth the price, kind of patchy, but like the packaging and shape.I think that this lipstick is definitely long lasting so if that’s what you’re looking for this will be great. It didn’t rub off on my glass when I drank and it stayed through the kiss test. However, it was very dry on my lips and I also didn’t like the square shape. The shape made it hard for me to use without getting it all over my face. This product was sent to me for free to review from Influenster, but this is my honest opinion!This colour is so beautiful against my chocolate skin. The colour is very pigmented and velvety. I will be purchasing other colours!Nice color and hard out on your lipsThis shade looked very chalky and far too pale for my skin tone. It was clear where the color ended and the inner portion of my lip began because it creased so muchWOW love everything about this lipstick. The packaging, the color, the wear you name it. This goes on beautifully the color is very rich. I wore this all day and it looked incredible. Touch up was easy and it continued to look smooth. I would highly recommend. I received this complimentary for testing purposes.Saturated color for so long!I received this lipstick for free from Influenster in exchange for my honest review. I normally gravitate towards liquid lipsticks so I was hesitant to try this formula. I was so wrong, the applicator makes it easy to put on, the texture is creamy and non-drying but with minimal transfer, and the color is gorgeous. I highly recommend this lipstick if you’re looking for a matte lipstick that won’t dry out your lips, and if you hate lip liner like I do.I love the smell, it’s rarely that I like the smell of lip items. This one smells pretty awesome. The color is magnificent. It has a long staying power! It doesn’t stain my glass when I’m having a drink but I gave it 4 stars because it isn’t kissing proof lol . I received this free for testing !I LOVE this lipstick. It's long lasting, not too drying, and the color doesn't make your teeth yellow... Which is hard for a red! It's expensive but totally worth the price. Perfect for a holiday gift!Thoughts after first use, the color is super pigmented and the formula is bomb. Once one, it easily smudges, but powder can easily fix. I love the shape of the listick for a crisp edge, but sometimes I feel like I can't see exactly where I am putting. Overall, I would buy this! I received this product complimentary from YSL Beauty for sampling purposesI am writing this review in exchange for receiving the product as a free sample. This lipstick is the epitome of classy. The packaging is beautiful, and the color is bright and alluring. It is creamy on the lips and has the beautiful matte finish which I love because i think it lasts longer in most cases. However that was my only complaint with this lipstick, that it definitely comes off when dabbing the mouth, drinking, and eating. I wish it stayed on just a little better!I love the feel of the lipstick. I love the skinny little shape. Wore it to work yesterday and got 2 compliments!The unique diamond shape of this lipstick actually helps in making a perfect cupid’s bow. Love the formula. Very light weight and does not flake like most matte doesIm in love with its really smooth when i tried on !!!!The square shape is a fail but the formula, color and matte finish are really good to wear. If you dont wanna to mess up with the look, try a lip brush :PThis formula is VERY unique! It is extremely matte and not drying AT ALL. However, it also provides zero moisture whatsoever. It is completely weightless. When wearing it, your lips don’t feel rough, but they don’t feel smooth either. Very strange. I don’t know how I feel about it. I understand the square packaging, but I really don’t find it that helpful and I wish it had the regular lipstick shape. Also, it doesn’t dry down. I could touch my lips hours later and still have red all over my finger.This is such a beautiful and perfect shade of red that would work for all skin tones! I enjoy the design and shape of the packaging, but it makes it a little awkward to apply it super neatly—at least for me. I received this product complimentary for testing.I received this product complimentary to test and am giving a 4 star rating because it has great texture, true pigment, but difficult application. The square shape of this lipstick is supposed to make more precise application but 100% requires a lip liner if you want even application and outline. Strong rich pigment to last a long time. (If you get any on your fingers, good luck getting it off. I had to use makeup remover!)I got this lipstick for free from Influenster. This is the perfect red lipstick! The shade really compliments my skin tone. The pigment is long lasting and doesn't flake. I really love the sleek packaging too. Overall would highly recommend!Had to return due to chalky, difficult formula. Color is lovely.I love the way this lipstick feels! It’s matte but it doesn’t get crusty and flakey like other lipsticks do! The color options are phenomenal and I wear mine for game days! #boomersooner honestly this lipstick is worth it! I plan on buying more!!Shade 21 is the perfect matte red color that won't dry your lips. YSL Beauty has is known for the best lipsticks and this new product doesn't disappoint. It's matte-leather formula goes on smooth and the color is stunning. I love the slim size because it's easy to bring anywhere.I received this product compliments of Influenster and I must say I love it! The color is vibrant and long lasting. I wore this lip color all night and it lasted through dinner. It did transfer on various items that I used that night but the color stayed vibrant! I love this matte formula, because it didn’t dry my lips out like most matte lipsticks do. The lipstick’s packaging is BOMB, but in the same breathe I have a minor complaint. The square shape of the applicator made it kind of awkward to apply the color to my lips. If you can get past that this lippie is amazing!Great . Super smoothI love this product. My complexion is pretty fair and I think this color always give a boost of color to my face. Best if you use a pinky blush with it. The matteness is really awesome on this product because I can drink or eat anything and my lips will still look red.This product is definitely new and different. Wow is the pigment. I was blown away by the richness of the color and how long it wore. I was particularly impressed by the resistance to food and drink, especially pizza. I also was very surprised how little the color dried out my lips. The shape was not the most intuitive but the color totally makes it worth it, especially because you get the hang of it after a while. With a liner (which I use anyway), it is perfect. And well, I can’t afford a Saint Laurent bag but the packaging is just gorgeous!! Feels good to treat myself to a little luxe!This lipstick stayed on through a full five course meal. It was so comfortable and did not dry out my lips. The color is gorgeous and I honestly do not want to wear another lipstick ever again.Hands down the best matte lip colour I’ve ever used!! My absolute new favourite. Applied sensibly, the square shape is the easiest to use. Refer to video to learn the proper angle to do the Cupid’s bow of the lip. Will definitely be purchasing more colours:)Love the packaging. Great pigmentation but very drying. If you have any trace of dry skin of your lips it clings on to it. There are better formulated matte lipsticks out there.I love it. Doesnt get your lips dry and so natural looking for me. Want to get other colors soon ❤️ ysl never fails.love rosey nude - long lastingThe shape is really pretty but makes it easy to smear a bit at the corners of your mouth. Love the color and feel of the formula though. It is a really lovely lipstick. Just be careful when applying it. Its great for applying on the upper lip though.Love this color for fall!! Very natural and stay on, only thing is little dry but is not too badMy new favorite nude! I’m 53 and I’ve toned down my lips. Because of my fair skin and brown hair, nudes can make me look washed out and sickly. This color is amazing! It’s very different online than in the store, so I would only recommend buying from the store so you can pick the right shade. I’m brunette with golden highlights, light skin, green eyes and this lip color is beautiful!I absolutely love this lipstick! It is matte, yet hydrating and the color lasts all night. I wore it through dinner and a show, so about 5-hours with eating and drinking. Very impressed by its staying power! Also, the packaging is sleek and fits into even my small purses.I love this color! Its long lasting and applies well. The color is great for fall. I also love the slim packaging, making it easy to fit inside a small clutch. I’ve always been a fan of this brand and the quality of their products. I received this product complimentary for testing purposes.Super bright and super fun. The formula was hydrating.Wonderful color payoff, very comfortable to wear, smells luxurious!I really loved this red lip. It went on easy and smooth and lasted all night. What I loved most about it was it was a matte lip but it was not drying at all. I hate the feeling of dry lips when I wear matte and I didnt get that at all with this. It is a great color for fall/winter/holidays and I would definitely recommend. I did receive this complimentary for testing purposes but love!Best red lip I’ve ever owned. Perfect tone of red for me. Feels creamy and smooth like velvet, keeps a matte even finish, the scent is to die for. I love the shape- it applies perfectly every time. I officially will not buy a lip from any other brand!!!!Absolutely in love with this YSL lipstick... live the formula. It is one of the best matt lipstick i have ever used.. doesnt make my lips feel dry and patchy.. it is so creamy and stay all day and very highly pogmented.. I somehow felt uncomfortable using the diamond shaped applicator which I feel with some use I get comfortable with it.. i will highly recommend this to all who love matt formula and still doesn’t want to feel the dryness in the lips..Packaging is to die for!!! Love the sleek and classy shape. Fits right into my purse! Also the structure and bold tip of applicator makes it easier to apply the lipstick without use of a lip liner. I really enjoy the cover pay off since the rouge really transfers onto the lips well! Would definitely recommend to friends and purchase when I run out!! Received product complimentary for review purposes ✨✨This is a really nice red that lasted quite awhile. I didn’t find it to be particularly drying like most mattes. I’ll definitely continue to wear it. I received this product complimentary for testing purposes.SO MUCH PIGMENT! My new go-to red. I love the shape of the lipstick and the application. Also, I love that YSL created a lipstick that looks like a piece of art. It's what a luxury lipstick should look like.This color is bomb. Doesn’t make my lips feel chalky or dry. I would definitely get more colors and i would recommend.I think I finally found my perfect shade of bright red! Although this is a matte formula, it is extremely comfortable to wear and doesn't make my lips look/feel pruny. The unusual shape of the bullet helps with precise application at my cupid's bow.I got two shades No 16 Rosewood Oddity and No 18 Reverse Red to add to my Fall and Winter lipsticks and so happy with both the shades. The finish is matte and does not dry my lips. It is very pigmented, I swipe once on my lips and I am good to go with a nice hint of color. The bullet is trciky at first and once you get hold of it, it is very easy to apply. Love the packjaging too. I might pick more shades in it.The color is stunning, super rich and vibrant. Very comfortable matte that lasts for hours. The packaging is very luxurious, amazing. The only thing is that the square shape of the bullet takes some getting use to. Not the easiest.The design of this tube makes it very difficult to apply - it goes all over my lipline! It is extremely pigmented - lasting through a morning of coffees and breakfast - but I wouldn't recommend - YSK has too many other great formulas with better applicators.The color is awesome but it was to drying on my lips . For me it was difficult to apply unless I used a lip brush. Not a fan and returned the productI love this shade, but the formula isn’t great and it transfers VERY easily. Also had the same initial difficulties with the design and application that other people seemed to.The colour is beautiful! Not as rich and deep as the swatch pic, more on the bright side but beautiful none the less. The formula feels like you have nothing on at all. I didn't get much/if any transfer throughout the day. The shape of the lipstick makes it difficult to apply precisely - concealer and lip brush are a must.Love love love it! The application was great, so smooth for my lips, they don’t feel dry and the color is great. Will definitely buy other colors. This was sent to me as a complimentary gift from Influenster but the review is my own.I think I found my newest shade of red. This lipstick is great: applies very easily and it feel very comfortable on the lips. The colour lasts all day (even after lunch!)This is the perfect red lipstick. It's the perfect color and it stays on really nice without smudging or fading like most lipsticks and it doesn't leave a mark on your cup! Very nice formula, it's smooth and not drying. My sister tried stealing this from me haha. I received this product complimentary for testingOkay I have been a fan of YSL lip products since 2012 and this did not disappoint. The color is so beautiful!!!!! I love love YSL lip products I feel like they have a particular scent and it always makes me feel luxurious. I did receive this from Influenster but I have bought many YSL lip products so to get this for free was amazing!!!!! LOVE LOVE LOVE LOVE\""
      ]
     },
     "execution_count": 29,
     "metadata": {},
     "output_type": "execute_result"
    }
   ],
   "source": [
    "text"
   ]
  },
  {
   "cell_type": "code",
   "execution_count": 30,
   "metadata": {},
   "outputs": [],
   "source": [
    "def get_pos_neg_words():\n",
    "    def get_words(url):\n",
    "        import requests\n",
    "        words = requests.get(url).content.decode('latin-1')\n",
    "        word_list = words.split('\\n')\n",
    "        index = 0\n",
    "        while index < len(word_list):\n",
    "            word = word_list[index]\n",
    "            if ';' in word or not word:\n",
    "                word_list.pop(index) #pop删掉的是第几位的数字 pop(index)\n",
    "            else:\n",
    "                index+=1\n",
    "        return word_list\n",
    "\n",
    "    #Get lists of positive and negative words\n",
    "    p_url = 'http://ptrckprry.com/course/ssd/data/positive-words.txt'\n",
    "    n_url = 'http://ptrckprry.com/course/ssd/data/negative-words.txt'\n",
    "    positive_words = get_words(p_url)\n",
    "    negative_words = get_words(n_url)\n",
    "    return positive_words,negative_words\n",
    "\n",
    "positive_words,negative_words = get_pos_neg_words()"
   ]
  },
  {
   "cell_type": "code",
   "execution_count": 31,
   "metadata": {},
   "outputs": [],
   "source": [
    "def do_pos_neg_sentiment_analysis(text,debug=False):\n",
    "    positive_words,negative_words = get_pos_neg_words()\n",
    "    from nltk import word_tokenize\n",
    "    results = list()\n",
    "    cpos = cneg = lpos = lneg = 0\n",
    "    for word in word_tokenize(text):\n",
    "        if word in positive_words:\n",
    "            if debug:\n",
    "                print(\"Positive\",word)\n",
    "            cpos+=1\n",
    "        if word in negative_words:\n",
    "            if debug:\n",
    "                print(\"Negative\",word)\n",
    "            cneg+=1\n",
    "    results.append((product_name, cpos/len(word_tokenize(text)),cneg/len(word_tokenize(text))))\n",
    "    return results"
   ]
  },
  {
   "cell_type": "code",
   "execution_count": 32,
   "metadata": {},
   "outputs": [
    {
     "data": {
      "text/plain": [
       "[('Rouge Pur Couture The Slim Matte Lipstick',\n",
       "  0.06615093148089675,\n",
       "  0.028102305020524156)]"
      ]
     },
     "execution_count": 32,
     "metadata": {},
     "output_type": "execute_result"
    }
   ],
   "source": [
    "# text= get_text()\n",
    "# do_pos_neg_sentiment_analysis(text,debug=False)\n"
   ]
  },
  {
   "cell_type": "code",
   "execution_count": 33,
   "metadata": {},
   "outputs": [],
   "source": [
    "# Text- Summerization\n",
    "def build_summary(text):\n",
    "    from nltk.tokenize import word_tokenize\n",
    "    from nltk.tokenize import sent_tokenize\n",
    "    from nltk.probability import FreqDist\n",
    "    from nltk.corpus import stopwords\n",
    "    from collections import OrderedDict\n",
    "    summary_sentences = []\n",
    "    candidate_sentences = {}\n",
    "    candidate_sentence_counts = {}\n",
    "    \n",
    "    words = word_tokenize(text)\n",
    "    \n",
    "    lowercase_words = [word.lower() for word in words\n",
    "                      if word not in stopwords.words() and word.isalpha()]\n",
    "    \n",
    "    word_frequencies = FreqDist(lowercase_words)\n",
    "    most_frequent_words = FreqDist(lowercase_words).most_common(20)\n",
    "    sentences = sent_tokenize(text)\n",
    "    for sentence in sentences:\n",
    "        candidate_sentences[sentence] = sentence.lower()\n",
    "    for long, short in candidate_sentences.items():\n",
    "        count = 0\n",
    "        for freq_word, frequency_score in most_frequent_words:\n",
    "            if freq_word in short:\n",
    "                count += frequency_score\n",
    "                candidate_sentence_counts[long] = count   \n",
    "    sorted_sentences = OrderedDict(sorted(\n",
    "                        candidate_sentence_counts.items(),\n",
    "                        key = lambda x: x[1],\n",
    "                        reverse = True)[:2])\n",
    "    return sorted_sentences   "
   ]
  },
  {
   "cell_type": "code",
   "execution_count": 34,
   "metadata": {},
   "outputs": [
    {
     "name": "stdout",
     "output_type": "stream",
     "text": [
      "Had to buy from YSL because color was sold out from SephoraLiterally Great , goes on greatamazing and I love it but I have not tried it yetI loved the color and the nifty pointed tip for lining but the formula wasn’t as long lasting as I had hoped.not worth the price, kind of patchy, but like the packaging and shape.I think that this lipstick is definitely long lasting so if that’s what you’re looking for this will be great.\n",
      "I would definitely recommend it.I love this lipstick, the color is amazing, I love the shape and slimness of it.\n"
     ]
    }
   ],
   "source": [
    "# build_naive_summary(text)\n",
    "summary = '\\n'.join(build_summary(text))\n",
    "print(summary)"
   ]
  },
  {
   "cell_type": "code",
   "execution_count": null,
   "metadata": {},
   "outputs": [],
   "source": []
  }
 ],
 "metadata": {
  "kernelspec": {
   "display_name": "Python 3",
   "language": "python",
   "name": "python3"
  },
  "language_info": {
   "codemirror_mode": {
    "name": "ipython",
    "version": 3
   },
   "file_extension": ".py",
   "mimetype": "text/x-python",
   "name": "python",
   "nbconvert_exporter": "python",
   "pygments_lexer": "ipython3",
   "version": "3.6.5"
  },
  "varInspector": {
   "cols": {
    "lenName": 16,
    "lenType": 16,
    "lenVar": 40
   },
   "kernels_config": {
    "python": {
     "delete_cmd_postfix": "",
     "delete_cmd_prefix": "del ",
     "library": "var_list.py",
     "varRefreshCmd": "print(var_dic_list())"
    },
    "r": {
     "delete_cmd_postfix": ") ",
     "delete_cmd_prefix": "rm(",
     "library": "var_list.r",
     "varRefreshCmd": "cat(var_dic_list()) "
    }
   },
   "types_to_exclude": [
    "module",
    "function",
    "builtin_function_or_method",
    "instance",
    "_Feature"
   ],
   "window_display": false
  }
 },
 "nbformat": 4,
 "nbformat_minor": 2
}
